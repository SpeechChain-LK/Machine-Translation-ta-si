{
 "cells": [
  {
   "cell_type": "code",
   "execution_count": 1,
   "id": "6c4126db",
   "metadata": {},
   "outputs": [
    {
     "name": "stderr",
     "output_type": "stream",
     "text": [
      "WARNING: Ignoring invalid distribution -rotobuf (d:\\cs-2019-063\\mbart50-2\\mbart50-env-1\\lib\\site-packages)\n",
      "WARNING: Ignoring invalid distribution -rotobuf (d:\\cs-2019-063\\mbart50-2\\mbart50-env-1\\lib\\site-packages)\n",
      "WARNING: Ignoring invalid distribution -rotobuf (d:\\cs-2019-063\\mbart50-2\\mbart50-env-1\\lib\\site-packages)\n",
      "WARNING: Ignoring invalid distribution -rotobuf (d:\\cs-2019-063\\mbart50-2\\mbart50-env-1\\lib\\site-packages)\n",
      "WARNING: Ignoring invalid distribution -rotobuf (d:\\cs-2019-063\\mbart50-2\\mbart50-env-1\\lib\\site-packages)\n",
      "WARNING: Ignoring invalid distribution -rotobuf (d:\\cs-2019-063\\mbart50-2\\mbart50-env-1\\lib\\site-packages)\n",
      "\n",
      "[notice] A new release of pip is available: 23.0.1 -> 25.1.1\n",
      "[notice] To update, run: python.exe -m pip install --upgrade pip\n"
     ]
    },
    {
     "name": "stdout",
     "output_type": "stream",
     "text": [
      "Looking in indexes: https://download.pytorch.org/whl/cu118\n",
      "Requirement already satisfied: torch in d:\\cs-2019-063\\mbart50-2\\mbart50-env-1\\lib\\site-packages (2.7.1+cu118)\n",
      "Requirement already satisfied: torchvision in d:\\cs-2019-063\\mbart50-2\\mbart50-env-1\\lib\\site-packages (0.22.1+cu118)\n",
      "Requirement already satisfied: torchaudio in d:\\cs-2019-063\\mbart50-2\\mbart50-env-1\\lib\\site-packages (2.7.1+cu118)\n",
      "Requirement already satisfied: jinja2 in d:\\cs-2019-063\\mbart50-2\\mbart50-env-1\\lib\\site-packages (from torch) (3.1.3)\n",
      "Requirement already satisfied: typing-extensions>=4.10.0 in d:\\cs-2019-063\\mbart50-2\\mbart50-env-1\\lib\\site-packages (from torch) (4.14.1)\n",
      "Requirement already satisfied: networkx in d:\\cs-2019-063\\mbart50-2\\mbart50-env-1\\lib\\site-packages (from torch) (3.3)\n",
      "Requirement already satisfied: fsspec in d:\\cs-2019-063\\mbart50-2\\mbart50-env-1\\lib\\site-packages (from torch) (2024.6.1)\n",
      "Requirement already satisfied: filelock in d:\\cs-2019-063\\mbart50-2\\mbart50-env-1\\lib\\site-packages (from torch) (3.13.1)\n",
      "Requirement already satisfied: sympy>=1.13.3 in d:\\cs-2019-063\\mbart50-2\\mbart50-env-1\\lib\\site-packages (from torch) (1.13.3)\n",
      "Requirement already satisfied: pillow!=8.3.*,>=5.3.0 in d:\\cs-2019-063\\mbart50-2\\mbart50-env-1\\lib\\site-packages (from torchvision) (11.0.0)\n",
      "Requirement already satisfied: numpy in d:\\cs-2019-063\\mbart50-2\\mbart50-env-1\\lib\\site-packages (from torchvision) (2.1.2)\n",
      "Requirement already satisfied: mpmath<1.4,>=1.1.0 in d:\\cs-2019-063\\mbart50-2\\mbart50-env-1\\lib\\site-packages (from sympy>=1.13.3->torch) (1.3.0)\n",
      "Requirement already satisfied: MarkupSafe>=2.0 in d:\\cs-2019-063\\mbart50-2\\mbart50-env-1\\lib\\site-packages (from jinja2->torch) (2.1.5)\n",
      "Note: you may need to restart the kernel to use updated packages.\n",
      "CUDA Available: True\n",
      "GPU: Quadro RTX 4000\n"
     ]
    }
   ],
   "source": [
    "# Install PyTorch with GPU support (CUDA 11.8 version)\n",
    "%pip install torch torchvision torchaudio --index-url https://download.pytorch.org/whl/cu118\n",
    "\n",
    "import torch\n",
    "print(\"CUDA Available:\", torch.cuda.is_available())  # Should be True\n",
    "print(\"GPU:\", torch.cuda.get_device_name(0))  # Should print Quadro RTX 4000"
   ]
  },
  {
   "cell_type": "code",
   "execution_count": 2,
   "id": "dfc13e0e",
   "metadata": {},
   "outputs": [
    {
     "name": "stdout",
     "output_type": "stream",
     "text": [
      "Requirement already satisfied: transformers[torch] in d:\\cs-2019-063\\mbart50-2\\mbart50-env-1\\lib\\site-packages (4.53.1)\n",
      "Requirement already satisfied: huggingface-hub<1.0,>=0.30.0 in d:\\cs-2019-063\\mbart50-2\\mbart50-env-1\\lib\\site-packages (from transformers[torch]) (0.33.2)\n",
      "Requirement already satisfied: regex!=2019.12.17 in d:\\cs-2019-063\\mbart50-2\\mbart50-env-1\\lib\\site-packages (from transformers[torch]) (2024.11.6)\n",
      "Requirement already satisfied: numpy>=1.17 in d:\\cs-2019-063\\mbart50-2\\mbart50-env-1\\lib\\site-packages (from transformers[torch]) (2.1.2)\n",
      "Requirement already satisfied: requests in d:\\cs-2019-063\\mbart50-2\\mbart50-env-1\\lib\\site-packages (from transformers[torch]) (2.32.4)\n",
      "Requirement already satisfied: filelock in d:\\cs-2019-063\\mbart50-2\\mbart50-env-1\\lib\\site-packages (from transformers[torch]) (3.13.1)\n",
      "Requirement already satisfied: tokenizers<0.22,>=0.21 in d:\\cs-2019-063\\mbart50-2\\mbart50-env-1\\lib\\site-packages (from transformers[torch]) (0.21.2)\n",
      "Requirement already satisfied: safetensors>=0.4.3 in d:\\cs-2019-063\\mbart50-2\\mbart50-env-1\\lib\\site-packages (from transformers[torch]) (0.5.3)\n",
      "Requirement already satisfied: pyyaml>=5.1 in d:\\cs-2019-063\\mbart50-2\\mbart50-env-1\\lib\\site-packages (from transformers[torch]) (6.0.2)\n",
      "Requirement already satisfied: packaging>=20.0 in d:\\cs-2019-063\\mbart50-2\\mbart50-env-1\\lib\\site-packages (from transformers[torch]) (25.0)\n",
      "Requirement already satisfied: tqdm>=4.27 in d:\\cs-2019-063\\mbart50-2\\mbart50-env-1\\lib\\site-packages (from transformers[torch]) (4.67.1)\n",
      "Requirement already satisfied: accelerate>=0.26.0 in d:\\cs-2019-063\\mbart50-2\\mbart50-env-1\\lib\\site-packages (from transformers[torch]) (1.8.1)\n",
      "Requirement already satisfied: torch>=2.1 in d:\\cs-2019-063\\mbart50-2\\mbart50-env-1\\lib\\site-packages (from transformers[torch]) (2.7.1+cu118)\n",
      "Requirement already satisfied: psutil in d:\\cs-2019-063\\mbart50-2\\mbart50-env-1\\lib\\site-packages (from accelerate>=0.26.0->transformers[torch]) (7.0.0)\n",
      "Requirement already satisfied: fsspec>=2023.5.0 in d:\\cs-2019-063\\mbart50-2\\mbart50-env-1\\lib\\site-packages (from huggingface-hub<1.0,>=0.30.0->transformers[torch]) (2024.6.1)\n",
      "Requirement already satisfied: typing-extensions>=3.7.4.3 in d:\\cs-2019-063\\mbart50-2\\mbart50-env-1\\lib\\site-packages (from huggingface-hub<1.0,>=0.30.0->transformers[torch]) (4.14.1)\n",
      "Requirement already satisfied: jinja2 in d:\\cs-2019-063\\mbart50-2\\mbart50-env-1\\lib\\site-packages (from torch>=2.1->transformers[torch]) (3.1.3)\n",
      "Requirement already satisfied: networkx in d:\\cs-2019-063\\mbart50-2\\mbart50-env-1\\lib\\site-packages (from torch>=2.1->transformers[torch]) (3.3)\n",
      "Requirement already satisfied: sympy>=1.13.3 in d:\\cs-2019-063\\mbart50-2\\mbart50-env-1\\lib\\site-packages (from torch>=2.1->transformers[torch]) (1.13.3)\n",
      "Requirement already satisfied: colorama in d:\\cs-2019-063\\mbart50-2\\mbart50-env-1\\lib\\site-packages (from tqdm>=4.27->transformers[torch]) (0.4.6)\n",
      "Requirement already satisfied: certifi>=2017.4.17 in d:\\cs-2019-063\\mbart50-2\\mbart50-env-1\\lib\\site-packages (from requests->transformers[torch]) (2025.6.15)\n",
      "Requirement already satisfied: idna<4,>=2.5 in d:\\cs-2019-063\\mbart50-2\\mbart50-env-1\\lib\\site-packages (from requests->transformers[torch]) (3.10)\n",
      "Requirement already satisfied: urllib3<3,>=1.21.1 in d:\\cs-2019-063\\mbart50-2\\mbart50-env-1\\lib\\site-packages (from requests->transformers[torch]) (2.5.0)\n",
      "Requirement already satisfied: charset_normalizer<4,>=2 in d:\\cs-2019-063\\mbart50-2\\mbart50-env-1\\lib\\site-packages (from requests->transformers[torch]) (3.4.2)\n",
      "Requirement already satisfied: mpmath<1.4,>=1.1.0 in d:\\cs-2019-063\\mbart50-2\\mbart50-env-1\\lib\\site-packages (from sympy>=1.13.3->torch>=2.1->transformers[torch]) (1.3.0)\n",
      "Requirement already satisfied: MarkupSafe>=2.0 in d:\\cs-2019-063\\mbart50-2\\mbart50-env-1\\lib\\site-packages (from jinja2->torch>=2.1->transformers[torch]) (2.1.5)\n",
      "Note: you may need to restart the kernel to use updated packages.\n"
     ]
    },
    {
     "name": "stderr",
     "output_type": "stream",
     "text": [
      "WARNING: Ignoring invalid distribution -rotobuf (d:\\cs-2019-063\\mbart50-2\\mbart50-env-1\\lib\\site-packages)\n",
      "WARNING: Ignoring invalid distribution -rotobuf (d:\\cs-2019-063\\mbart50-2\\mbart50-env-1\\lib\\site-packages)\n",
      "WARNING: Ignoring invalid distribution -rotobuf (d:\\cs-2019-063\\mbart50-2\\mbart50-env-1\\lib\\site-packages)\n",
      "WARNING: Ignoring invalid distribution -rotobuf (d:\\cs-2019-063\\mbart50-2\\mbart50-env-1\\lib\\site-packages)\n",
      "WARNING: Ignoring invalid distribution -rotobuf (d:\\cs-2019-063\\mbart50-2\\mbart50-env-1\\lib\\site-packages)\n",
      "WARNING: Ignoring invalid distribution -rotobuf (d:\\cs-2019-063\\mbart50-2\\mbart50-env-1\\lib\\site-packages)\n",
      "\n",
      "[notice] A new release of pip is available: 23.0.1 -> 25.1.1\n",
      "[notice] To update, run: python.exe -m pip install --upgrade pip\n"
     ]
    },
    {
     "name": "stdout",
     "output_type": "stream",
     "text": [
      "Requirement already satisfied: datasets in d:\\cs-2019-063\\mbart50-2\\mbart50-env-1\\lib\\site-packages (3.6.0)\n",
      "Requirement already satisfied: accelerate in d:\\cs-2019-063\\mbart50-2\\mbart50-env-1\\lib\\site-packages (1.8.1)\n",
      "Requirement already satisfied: evaluate in d:\\cs-2019-063\\mbart50-2\\mbart50-env-1\\lib\\site-packages (0.4.4)\n",
      "Requirement already satisfied: sacrebleu in d:\\cs-2019-063\\mbart50-2\\mbart50-env-1\\lib\\site-packages (2.5.1)\n",
      "Requirement already satisfied: sentencepiece in d:\\cs-2019-063\\mbart50-2\\mbart50-env-1\\lib\\site-packages (0.2.0)\n",
      "Requirement already satisfied: protobuf in d:\\cs-2019-063\\mbart50-2\\mbart50-env-1\\lib\\site-packages (5.29.5)\n",
      "Collecting protobuf\n",
      "  Using cached protobuf-6.31.1-cp310-abi3-win_amd64.whl (435 kB)\n",
      "Requirement already satisfied: rouge_score in d:\\cs-2019-063\\mbart50-2\\mbart50-env-1\\lib\\site-packages (0.1.2)\n",
      "Requirement already satisfied: bert_score in d:\\cs-2019-063\\mbart50-2\\mbart50-env-1\\lib\\site-packages (0.3.13)\n",
      "Requirement already satisfied: tensorboard in d:\\cs-2019-063\\mbart50-2\\mbart50-env-1\\lib\\site-packages (2.19.0)\n",
      "Requirement already satisfied: pandas in d:\\cs-2019-063\\mbart50-2\\mbart50-env-1\\lib\\site-packages (from datasets) (2.3.0)\n",
      "Requirement already satisfied: pyyaml>=5.1 in d:\\cs-2019-063\\mbart50-2\\mbart50-env-1\\lib\\site-packages (from datasets) (6.0.2)\n",
      "Requirement already satisfied: xxhash in d:\\cs-2019-063\\mbart50-2\\mbart50-env-1\\lib\\site-packages (from datasets) (3.5.0)\n",
      "Requirement already satisfied: filelock in d:\\cs-2019-063\\mbart50-2\\mbart50-env-1\\lib\\site-packages (from datasets) (3.13.1)\n",
      "Requirement already satisfied: requests>=2.32.2 in d:\\cs-2019-063\\mbart50-2\\mbart50-env-1\\lib\\site-packages (from datasets) (2.32.4)\n",
      "Requirement already satisfied: numpy>=1.17 in d:\\cs-2019-063\\mbart50-2\\mbart50-env-1\\lib\\site-packages (from datasets) (2.1.2)\n",
      "Requirement already satisfied: pyarrow>=15.0.0 in d:\\cs-2019-063\\mbart50-2\\mbart50-env-1\\lib\\site-packages (from datasets) (20.0.0)\n",
      "Requirement already satisfied: huggingface-hub>=0.24.0 in d:\\cs-2019-063\\mbart50-2\\mbart50-env-1\\lib\\site-packages (from datasets) (0.33.2)\n",
      "Requirement already satisfied: packaging in d:\\cs-2019-063\\mbart50-2\\mbart50-env-1\\lib\\site-packages (from datasets) (25.0)\n",
      "Requirement already satisfied: tqdm>=4.66.3 in d:\\cs-2019-063\\mbart50-2\\mbart50-env-1\\lib\\site-packages (from datasets) (4.67.1)\n",
      "Requirement already satisfied: fsspec[http]<=2025.3.0,>=2023.1.0 in d:\\cs-2019-063\\mbart50-2\\mbart50-env-1\\lib\\site-packages (from datasets) (2024.6.1)\n",
      "Requirement already satisfied: multiprocess<0.70.17 in d:\\cs-2019-063\\mbart50-2\\mbart50-env-1\\lib\\site-packages (from datasets) (0.70.16)\n",
      "Requirement already satisfied: dill<0.3.9,>=0.3.0 in d:\\cs-2019-063\\mbart50-2\\mbart50-env-1\\lib\\site-packages (from datasets) (0.3.8)\n",
      "Requirement already satisfied: psutil in d:\\cs-2019-063\\mbart50-2\\mbart50-env-1\\lib\\site-packages (from accelerate) (7.0.0)\n",
      "Requirement already satisfied: safetensors>=0.4.3 in d:\\cs-2019-063\\mbart50-2\\mbart50-env-1\\lib\\site-packages (from accelerate) (0.5.3)\n",
      "Requirement already satisfied: torch>=2.0.0 in d:\\cs-2019-063\\mbart50-2\\mbart50-env-1\\lib\\site-packages (from accelerate) (2.7.1+cu118)\n",
      "Requirement already satisfied: lxml in d:\\cs-2019-063\\mbart50-2\\mbart50-env-1\\lib\\site-packages (from sacrebleu) (6.0.0)\n",
      "Requirement already satisfied: colorama in d:\\cs-2019-063\\mbart50-2\\mbart50-env-1\\lib\\site-packages (from sacrebleu) (0.4.6)\n",
      "Requirement already satisfied: regex in d:\\cs-2019-063\\mbart50-2\\mbart50-env-1\\lib\\site-packages (from sacrebleu) (2024.11.6)\n",
      "Requirement already satisfied: portalocker in d:\\cs-2019-063\\mbart50-2\\mbart50-env-1\\lib\\site-packages (from sacrebleu) (3.2.0)\n",
      "Requirement already satisfied: tabulate>=0.8.9 in d:\\cs-2019-063\\mbart50-2\\mbart50-env-1\\lib\\site-packages (from sacrebleu) (0.9.0)\n",
      "Requirement already satisfied: absl-py in d:\\cs-2019-063\\mbart50-2\\mbart50-env-1\\lib\\site-packages (from rouge_score) (2.3.1)\n",
      "Requirement already satisfied: six>=1.14.0 in d:\\cs-2019-063\\mbart50-2\\mbart50-env-1\\lib\\site-packages (from rouge_score) (1.17.0)\n",
      "Requirement already satisfied: nltk in d:\\cs-2019-063\\mbart50-2\\mbart50-env-1\\lib\\site-packages (from rouge_score) (3.9.1)\n",
      "Requirement already satisfied: matplotlib in d:\\cs-2019-063\\mbart50-2\\mbart50-env-1\\lib\\site-packages (from bert_score) (3.10.3)\n",
      "Requirement already satisfied: transformers>=3.0.0 in d:\\cs-2019-063\\mbart50-2\\mbart50-env-1\\lib\\site-packages (from bert_score) (4.53.1)\n",
      "Requirement already satisfied: werkzeug>=1.0.1 in d:\\cs-2019-063\\mbart50-2\\mbart50-env-1\\lib\\site-packages (from tensorboard) (3.1.3)\n",
      "Requirement already satisfied: markdown>=2.6.8 in d:\\cs-2019-063\\mbart50-2\\mbart50-env-1\\lib\\site-packages (from tensorboard) (3.8.2)\n",
      "Requirement already satisfied: tensorboard-data-server<0.8.0,>=0.7.0 in d:\\cs-2019-063\\mbart50-2\\mbart50-env-1\\lib\\site-packages (from tensorboard) (0.7.2)\n",
      "Requirement already satisfied: grpcio>=1.48.2 in d:\\cs-2019-063\\mbart50-2\\mbart50-env-1\\lib\\site-packages (from tensorboard) (1.73.1)\n",
      "Requirement already satisfied: setuptools>=41.0.0 in d:\\cs-2019-063\\mbart50-2\\mbart50-env-1\\lib\\site-packages (from tensorboard) (65.5.0)\n",
      "Requirement already satisfied: aiohttp!=4.0.0a0,!=4.0.0a1 in d:\\cs-2019-063\\mbart50-2\\mbart50-env-1\\lib\\site-packages (from fsspec[http]<=2025.3.0,>=2023.1.0->datasets) (3.12.13)\n",
      "Requirement already satisfied: typing-extensions>=3.7.4.3 in d:\\cs-2019-063\\mbart50-2\\mbart50-env-1\\lib\\site-packages (from huggingface-hub>=0.24.0->datasets) (4.14.1)\n",
      "Requirement already satisfied: pytz>=2020.1 in d:\\cs-2019-063\\mbart50-2\\mbart50-env-1\\lib\\site-packages (from pandas->datasets) (2025.2)\n",
      "Requirement already satisfied: python-dateutil>=2.8.2 in d:\\cs-2019-063\\mbart50-2\\mbart50-env-1\\lib\\site-packages (from pandas->datasets) (2.9.0.post0)\n",
      "Requirement already satisfied: tzdata>=2022.7 in d:\\cs-2019-063\\mbart50-2\\mbart50-env-1\\lib\\site-packages (from pandas->datasets) (2025.2)\n",
      "Requirement already satisfied: charset_normalizer<4,>=2 in d:\\cs-2019-063\\mbart50-2\\mbart50-env-1\\lib\\site-packages (from requests>=2.32.2->datasets) (3.4.2)\n",
      "Requirement already satisfied: idna<4,>=2.5 in d:\\cs-2019-063\\mbart50-2\\mbart50-env-1\\lib\\site-packages (from requests>=2.32.2->datasets) (3.10)\n",
      "Requirement already satisfied: urllib3<3,>=1.21.1 in d:\\cs-2019-063\\mbart50-2\\mbart50-env-1\\lib\\site-packages (from requests>=2.32.2->datasets) (2.5.0)\n",
      "Requirement already satisfied: certifi>=2017.4.17 in d:\\cs-2019-063\\mbart50-2\\mbart50-env-1\\lib\\site-packages (from requests>=2.32.2->datasets) (2025.6.15)\n",
      "Requirement already satisfied: networkx in d:\\cs-2019-063\\mbart50-2\\mbart50-env-1\\lib\\site-packages (from torch>=2.0.0->accelerate) (3.3)\n",
      "Requirement already satisfied: sympy>=1.13.3 in d:\\cs-2019-063\\mbart50-2\\mbart50-env-1\\lib\\site-packages (from torch>=2.0.0->accelerate) (1.13.3)\n",
      "Requirement already satisfied: jinja2 in d:\\cs-2019-063\\mbart50-2\\mbart50-env-1\\lib\\site-packages (from torch>=2.0.0->accelerate) (3.1.3)\n",
      "Requirement already satisfied: tokenizers<0.22,>=0.21 in d:\\cs-2019-063\\mbart50-2\\mbart50-env-1\\lib\\site-packages (from transformers>=3.0.0->bert_score) (0.21.2)\n",
      "Requirement already satisfied: MarkupSafe>=2.1.1 in d:\\cs-2019-063\\mbart50-2\\mbart50-env-1\\lib\\site-packages (from werkzeug>=1.0.1->tensorboard) (2.1.5)\n",
      "Requirement already satisfied: contourpy>=1.0.1 in d:\\cs-2019-063\\mbart50-2\\mbart50-env-1\\lib\\site-packages (from matplotlib->bert_score) (1.3.2)\n",
      "Requirement already satisfied: cycler>=0.10 in d:\\cs-2019-063\\mbart50-2\\mbart50-env-1\\lib\\site-packages (from matplotlib->bert_score) (0.12.1)\n",
      "Requirement already satisfied: pyparsing>=2.3.1 in d:\\cs-2019-063\\mbart50-2\\mbart50-env-1\\lib\\site-packages (from matplotlib->bert_score) (3.2.3)\n",
      "Requirement already satisfied: pillow>=8 in d:\\cs-2019-063\\mbart50-2\\mbart50-env-1\\lib\\site-packages (from matplotlib->bert_score) (11.0.0)\n",
      "Requirement already satisfied: kiwisolver>=1.3.1 in d:\\cs-2019-063\\mbart50-2\\mbart50-env-1\\lib\\site-packages (from matplotlib->bert_score) (1.4.8)\n",
      "Requirement already satisfied: fonttools>=4.22.0 in d:\\cs-2019-063\\mbart50-2\\mbart50-env-1\\lib\\site-packages (from matplotlib->bert_score) (4.58.5)\n",
      "Requirement already satisfied: joblib in d:\\cs-2019-063\\mbart50-2\\mbart50-env-1\\lib\\site-packages (from nltk->rouge_score) (1.5.1)\n",
      "Requirement already satisfied: click in d:\\cs-2019-063\\mbart50-2\\mbart50-env-1\\lib\\site-packages (from nltk->rouge_score) (8.2.1)\n",
      "Requirement already satisfied: pywin32>=226 in d:\\cs-2019-063\\mbart50-2\\mbart50-env-1\\lib\\site-packages (from portalocker->sacrebleu) (310)\n",
      "Requirement already satisfied: aiohappyeyeballs>=2.5.0 in d:\\cs-2019-063\\mbart50-2\\mbart50-env-1\\lib\\site-packages (from aiohttp!=4.0.0a0,!=4.0.0a1->fsspec[http]<=2025.3.0,>=2023.1.0->datasets) (2.6.1)\n",
      "Requirement already satisfied: yarl<2.0,>=1.17.0 in d:\\cs-2019-063\\mbart50-2\\mbart50-env-1\\lib\\site-packages (from aiohttp!=4.0.0a0,!=4.0.0a1->fsspec[http]<=2025.3.0,>=2023.1.0->datasets) (1.20.1)\n",
      "Requirement already satisfied: frozenlist>=1.1.1 in d:\\cs-2019-063\\mbart50-2\\mbart50-env-1\\lib\\site-packages (from aiohttp!=4.0.0a0,!=4.0.0a1->fsspec[http]<=2025.3.0,>=2023.1.0->datasets) (1.7.0)\n",
      "Requirement already satisfied: aiosignal>=1.1.2 in d:\\cs-2019-063\\mbart50-2\\mbart50-env-1\\lib\\site-packages (from aiohttp!=4.0.0a0,!=4.0.0a1->fsspec[http]<=2025.3.0,>=2023.1.0->datasets) (1.4.0)\n",
      "Requirement already satisfied: multidict<7.0,>=4.5 in d:\\cs-2019-063\\mbart50-2\\mbart50-env-1\\lib\\site-packages (from aiohttp!=4.0.0a0,!=4.0.0a1->fsspec[http]<=2025.3.0,>=2023.1.0->datasets) (6.6.3)\n",
      "Requirement already satisfied: async-timeout<6.0,>=4.0 in d:\\cs-2019-063\\mbart50-2\\mbart50-env-1\\lib\\site-packages (from aiohttp!=4.0.0a0,!=4.0.0a1->fsspec[http]<=2025.3.0,>=2023.1.0->datasets) (5.0.1)\n",
      "Requirement already satisfied: propcache>=0.2.0 in d:\\cs-2019-063\\mbart50-2\\mbart50-env-1\\lib\\site-packages (from aiohttp!=4.0.0a0,!=4.0.0a1->fsspec[http]<=2025.3.0,>=2023.1.0->datasets) (0.3.2)\n",
      "Requirement already satisfied: attrs>=17.3.0 in d:\\cs-2019-063\\mbart50-2\\mbart50-env-1\\lib\\site-packages (from aiohttp!=4.0.0a0,!=4.0.0a1->fsspec[http]<=2025.3.0,>=2023.1.0->datasets) (25.3.0)\n",
      "Requirement already satisfied: mpmath<1.4,>=1.1.0 in d:\\cs-2019-063\\mbart50-2\\mbart50-env-1\\lib\\site-packages (from sympy>=1.13.3->torch>=2.0.0->accelerate) (1.3.0)\n",
      "Installing collected packages: protobuf\n",
      "  Attempting uninstall: protobuf\n",
      "    Found existing installation: protobuf 5.29.5\n",
      "    Uninstalling protobuf-5.29.5:\n",
      "      Successfully uninstalled protobuf-5.29.5\n",
      "Successfully installed protobuf-6.31.1\n",
      "Note: you may need to restart the kernel to use updated packages.\n"
     ]
    },
    {
     "name": "stderr",
     "output_type": "stream",
     "text": [
      "WARNING: Ignoring invalid distribution -rotobuf (d:\\cs-2019-063\\mbart50-2\\mbart50-env-1\\lib\\site-packages)\n",
      "WARNING: Ignoring invalid distribution -rotobuf (d:\\cs-2019-063\\mbart50-2\\mbart50-env-1\\lib\\site-packages)\n",
      "WARNING: Ignoring invalid distribution -rotobuf (d:\\cs-2019-063\\mbart50-2\\mbart50-env-1\\lib\\site-packages)\n",
      "    WARNING: Ignoring invalid distribution -rotobuf (d:\\cs-2019-063\\mbart50-2\\mbart50-env-1\\lib\\site-packages)\n",
      "WARNING: Ignoring invalid distribution -rotobuf (d:\\cs-2019-063\\mbart50-2\\mbart50-env-1\\lib\\site-packages)\n",
      "WARNING: Ignoring invalid distribution -rotobuf (d:\\cs-2019-063\\mbart50-2\\mbart50-env-1\\lib\\site-packages)\n",
      "WARNING: Ignoring invalid distribution -rotobuf (d:\\cs-2019-063\\mbart50-2\\mbart50-env-1\\lib\\site-packages)\n",
      "WARNING: Ignoring invalid distribution -rotobuf (d:\\cs-2019-063\\mbart50-2\\mbart50-env-1\\lib\\site-packages)\n",
      "\n",
      "[notice] A new release of pip is available: 23.0.1 -> 25.1.1\n",
      "[notice] To update, run: python.exe -m pip install --upgrade pip\n"
     ]
    }
   ],
   "source": [
    "%pip install -U \"transformers[torch]\"\n",
    "%pip install -U datasets accelerate evaluate sacrebleu sentencepiece protobuf rouge_score bert_score tensorboard"
   ]
  },
  {
   "cell_type": "code",
   "execution_count": 3,
   "id": "decedfac",
   "metadata": {},
   "outputs": [
    {
     "name": "stderr",
     "output_type": "stream",
     "text": [
      "d:\\CS-2019-063\\mbart50-2\\mbart50-env-1\\lib\\site-packages\\tqdm\\auto.py:21: TqdmWarning: IProgress not found. Please update jupyter and ipywidgets. See https://ipywidgets.readthedocs.io/en/stable/user_install.html\n",
      "  from .autonotebook import tqdm as notebook_tqdm\n"
     ]
    }
   ],
   "source": [
    "from transformers import MBartForConditionalGeneration, MBart50TokenizerFast, DataCollatorForSeq2Seq\n",
    "from datasets import load_dataset"
   ]
  },
  {
   "cell_type": "code",
   "execution_count": 4,
   "id": "74dfe229",
   "metadata": {},
   "outputs": [
    {
     "name": "stdout",
     "output_type": "stream",
     "text": [
      "Requirement already satisfied: sentencepiece in d:\\cs-2019-063\\mbart50-2\\mbart50-env-1\\lib\\site-packages (0.2.0)\n",
      "Requirement already satisfied: protobuf in d:\\cs-2019-063\\mbart50-2\\mbart50-env-1\\lib\\site-packages (6.31.1)\n",
      "Note: you may need to restart the kernel to use updated packages.\n"
     ]
    },
    {
     "name": "stderr",
     "output_type": "stream",
     "text": [
      "WARNING: Ignoring invalid distribution -rotobuf (d:\\cs-2019-063\\mbart50-2\\mbart50-env-1\\lib\\site-packages)\n",
      "WARNING: Ignoring invalid distribution -rotobuf (d:\\cs-2019-063\\mbart50-2\\mbart50-env-1\\lib\\site-packages)\n",
      "WARNING: Ignoring invalid distribution -rotobuf (d:\\cs-2019-063\\mbart50-2\\mbart50-env-1\\lib\\site-packages)\n",
      "WARNING: Ignoring invalid distribution -rotobuf (d:\\cs-2019-063\\mbart50-2\\mbart50-env-1\\lib\\site-packages)\n",
      "WARNING: Ignoring invalid distribution -rotobuf (d:\\cs-2019-063\\mbart50-2\\mbart50-env-1\\lib\\site-packages)\n",
      "WARNING: Ignoring invalid distribution -rotobuf (d:\\cs-2019-063\\mbart50-2\\mbart50-env-1\\lib\\site-packages)\n",
      "\n",
      "[notice] A new release of pip is available: 23.0.1 -> 25.1.1\n",
      "[notice] To update, run: python.exe -m pip install --upgrade pip\n"
     ]
    },
    {
     "name": "stdout",
     "output_type": "stream",
     "text": [
      "Requirement already satisfied: tiktoken in d:\\cs-2019-063\\mbart50-2\\mbart50-env-1\\lib\\site-packages (0.9.0)\n",
      "Requirement already satisfied: requests>=2.26.0 in d:\\cs-2019-063\\mbart50-2\\mbart50-env-1\\lib\\site-packages (from tiktoken) (2.32.4)\n",
      "Requirement already satisfied: regex>=2022.1.18 in d:\\cs-2019-063\\mbart50-2\\mbart50-env-1\\lib\\site-packages (from tiktoken) (2024.11.6)\n",
      "Requirement already satisfied: urllib3<3,>=1.21.1 in d:\\cs-2019-063\\mbart50-2\\mbart50-env-1\\lib\\site-packages (from requests>=2.26.0->tiktoken) (2.5.0)\n",
      "Requirement already satisfied: idna<4,>=2.5 in d:\\cs-2019-063\\mbart50-2\\mbart50-env-1\\lib\\site-packages (from requests>=2.26.0->tiktoken) (3.10)\n",
      "Requirement already satisfied: certifi>=2017.4.17 in d:\\cs-2019-063\\mbart50-2\\mbart50-env-1\\lib\\site-packages (from requests>=2.26.0->tiktoken) (2025.6.15)\n",
      "Requirement already satisfied: charset_normalizer<4,>=2 in d:\\cs-2019-063\\mbart50-2\\mbart50-env-1\\lib\\site-packages (from requests>=2.26.0->tiktoken) (3.4.2)\n",
      "Note: you may need to restart the kernel to use updated packages.\n"
     ]
    },
    {
     "name": "stderr",
     "output_type": "stream",
     "text": [
      "WARNING: Ignoring invalid distribution -rotobuf (d:\\cs-2019-063\\mbart50-2\\mbart50-env-1\\lib\\site-packages)\n",
      "WARNING: Ignoring invalid distribution -rotobuf (d:\\cs-2019-063\\mbart50-2\\mbart50-env-1\\lib\\site-packages)\n",
      "WARNING: Ignoring invalid distribution -rotobuf (d:\\cs-2019-063\\mbart50-2\\mbart50-env-1\\lib\\site-packages)\n",
      "WARNING: Ignoring invalid distribution -rotobuf (d:\\cs-2019-063\\mbart50-2\\mbart50-env-1\\lib\\site-packages)\n",
      "WARNING: Ignoring invalid distribution -rotobuf (d:\\cs-2019-063\\mbart50-2\\mbart50-env-1\\lib\\site-packages)\n",
      "WARNING: Ignoring invalid distribution -rotobuf (d:\\cs-2019-063\\mbart50-2\\mbart50-env-1\\lib\\site-packages)\n",
      "\n",
      "[notice] A new release of pip is available: 23.0.1 -> 25.1.1\n",
      "[notice] To update, run: python.exe -m pip install --upgrade pip\n"
     ]
    }
   ],
   "source": [
    "%pip install sentencepiece protobuf\n",
    "%pip install tiktoken"
   ]
  },
  {
   "cell_type": "code",
   "execution_count": 5,
   "id": "b04126c3",
   "metadata": {},
   "outputs": [],
   "source": [
    "model_name = \"facebook/mbart-large-50-many-to-many-mmt\"\n",
    "tokenizer = MBart50TokenizerFast.from_pretrained(model_name)\n",
    "model = MBartForConditionalGeneration.from_pretrained(model_name)\n",
    "\n",
    "tokenizer.src_lang = \"ta_IN\"\n",
    "tokenizer.tgt_lang = \"si_LK\""
   ]
  },
  {
   "cell_type": "code",
   "execution_count": 6,
   "id": "3e40f1eb",
   "metadata": {},
   "outputs": [
    {
     "name": "stdout",
     "output_type": "stream",
     "text": [
      "Train Sample: {'source': 'இந்த பேச்சுவார்த்தையில் பங்கு பெறுவது குறித்து புஷ் நிர்வாக அதிகாரிகளிடம் இருந்து எந்த தகவலும் வரவில்லை .', 'target': 'මෙම සාකච්ඡාවට සහභාගී වීම සම්බන්ධයෙන් බුෂ් පරිපාලනයෙන් කිසිදු තොරතුරක් ලැබුණේ නැත.'}\n",
      "Validation Sample: {'source': 'அழிவடைந்த கட்டிடங்களில் அழிவடையாது எஞ்சியிருந்த பாகங்களில் பாடசாலைகள் ஆரம்பிக்கப்பட்டன .', 'target': 'විනාශ වූ ගොඩනැගිලිවල විනාශ නොවී ඉතිරි වී තිබු කොටස්වල පාසල් අරඹන ලදී .'}\n"
     ]
    }
   ],
   "source": [
    "from datasets import load_dataset\n",
    "\n",
    "dataset = load_dataset(\n",
    "    \"csv\",\n",
    "    data_files={\n",
    "        \"train\": \"80-20/train-new.tsv\",\n",
    "        \"validation\": \"80-20/val-new.tsv\",\n",
    "        # \"test\": \"test.tsv\"\n",
    "    },\n",
    "    delimiter=\"\\t\",  # TSV format\n",
    "    column_names=[\"source\", \"target\"]  # Only needed if your files don't have headers\n",
    ")\n",
    "\n",
    "# Example usage\n",
    "print(\"Train Sample:\", dataset[\"train\"][1])\n",
    "print(\"Validation Sample:\", dataset[\"validation\"][1])\n",
    "# print(\"Test Sample:\", dataset[\"test\"][1])"
   ]
  },
  {
   "cell_type": "code",
   "execution_count": 7,
   "id": "da4a6407",
   "metadata": {},
   "outputs": [
    {
     "name": "stdout",
     "output_type": "stream",
     "text": [
      "Note: you may need to restart the kernel to use updated packages.\n"
     ]
    },
    {
     "name": "stderr",
     "output_type": "stream",
     "text": [
      "WARNING: Ignoring invalid distribution -rotobuf (d:\\cs-2019-063\\mbart50-2\\mbart50-env-1\\lib\\site-packages)\n",
      "WARNING: Ignoring invalid distribution -rotobuf (d:\\cs-2019-063\\mbart50-2\\mbart50-env-1\\lib\\site-packages)\n",
      "WARNING: Skipping tensorflow as it is not installed.\n"
     ]
    },
    {
     "name": "stdout",
     "output_type": "stream",
     "text": [
      "Collecting tensorflow\n",
      "  Using cached tensorflow-2.19.0-cp310-cp310-win_amd64.whl (375.7 MB)\n",
      "Requirement already satisfied: numpy<2.2.0,>=1.26.0 in d:\\cs-2019-063\\mbart50-2\\mbart50-env-1\\lib\\site-packages (from tensorflow) (2.1.2)\n",
      "Requirement already satisfied: wrapt>=1.11.0 in d:\\cs-2019-063\\mbart50-2\\mbart50-env-1\\lib\\site-packages (from tensorflow) (1.17.2)\n",
      "Requirement already satisfied: setuptools in d:\\cs-2019-063\\mbart50-2\\mbart50-env-1\\lib\\site-packages (from tensorflow) (65.5.0)\n",
      "Collecting h5py>=3.11.0\n",
      "  Using cached h5py-3.14.0-cp310-cp310-win_amd64.whl (2.9 MB)\n",
      "Requirement already satisfied: typing-extensions>=3.6.6 in d:\\cs-2019-063\\mbart50-2\\mbart50-env-1\\lib\\site-packages (from tensorflow) (4.14.1)\n",
      "Collecting keras>=3.5.0\n",
      "  Using cached keras-3.10.0-py3-none-any.whl (1.4 MB)\n",
      "Requirement already satisfied: requests<3,>=2.21.0 in d:\\cs-2019-063\\mbart50-2\\mbart50-env-1\\lib\\site-packages (from tensorflow) (2.32.4)\n",
      "Collecting gast!=0.5.0,!=0.5.1,!=0.5.2,>=0.2.1\n",
      "  Using cached gast-0.6.0-py3-none-any.whl (21 kB)\n",
      "Requirement already satisfied: grpcio<2.0,>=1.24.3 in d:\\cs-2019-063\\mbart50-2\\mbart50-env-1\\lib\\site-packages (from tensorflow) (1.73.1)\n",
      "Requirement already satisfied: tensorboard~=2.19.0 in d:\\cs-2019-063\\mbart50-2\\mbart50-env-1\\lib\\site-packages (from tensorflow) (2.19.0)\n",
      "Requirement already satisfied: tensorflow-io-gcs-filesystem>=0.23.1 in d:\\cs-2019-063\\mbart50-2\\mbart50-env-1\\lib\\site-packages (from tensorflow) (0.31.0)\n",
      "Requirement already satisfied: libclang>=13.0.0 in d:\\cs-2019-063\\mbart50-2\\mbart50-env-1\\lib\\site-packages (from tensorflow) (18.1.1)\n",
      "Collecting astunparse>=1.6.0\n",
      "  Using cached astunparse-1.6.3-py2.py3-none-any.whl (12 kB)\n",
      "Collecting opt-einsum>=2.3.2\n",
      "  Using cached opt_einsum-3.4.0-py3-none-any.whl (71 kB)\n",
      "Collecting google-pasta>=0.1.1\n",
      "  Using cached google_pasta-0.2.0-py3-none-any.whl (57 kB)\n",
      "Requirement already satisfied: packaging in d:\\cs-2019-063\\mbart50-2\\mbart50-env-1\\lib\\site-packages (from tensorflow) (25.0)\n",
      "Requirement already satisfied: six>=1.12.0 in d:\\cs-2019-063\\mbart50-2\\mbart50-env-1\\lib\\site-packages (from tensorflow) (1.17.0)\n",
      "Requirement already satisfied: absl-py>=1.0.0 in d:\\cs-2019-063\\mbart50-2\\mbart50-env-1\\lib\\site-packages (from tensorflow) (2.3.1)\n",
      "Collecting protobuf!=4.21.0,!=4.21.1,!=4.21.2,!=4.21.3,!=4.21.4,!=4.21.5,<6.0.0dev,>=3.20.3\n",
      "  Using cached protobuf-5.29.5-cp310-abi3-win_amd64.whl (434 kB)\n",
      "Collecting ml-dtypes<1.0.0,>=0.5.1\n",
      "  Using cached ml_dtypes-0.5.1-cp310-cp310-win_amd64.whl (209 kB)\n",
      "Requirement already satisfied: termcolor>=1.1.0 in d:\\cs-2019-063\\mbart50-2\\mbart50-env-1\\lib\\site-packages (from tensorflow) (3.1.0)\n",
      "Requirement already satisfied: flatbuffers>=24.3.25 in d:\\cs-2019-063\\mbart50-2\\mbart50-env-1\\lib\\site-packages (from tensorflow) (25.2.10)\n",
      "Requirement already satisfied: wheel<1.0,>=0.23.0 in d:\\cs-2019-063\\mbart50-2\\mbart50-env-1\\lib\\site-packages (from astunparse>=1.6.0->tensorflow) (0.45.1)\n",
      "Collecting rich\n",
      "  Using cached rich-14.0.0-py3-none-any.whl (243 kB)\n",
      "Collecting optree\n",
      "  Using cached optree-0.16.0-cp310-cp310-win_amd64.whl (304 kB)\n",
      "Requirement already satisfied: namex in d:\\cs-2019-063\\mbart50-2\\mbart50-env-1\\lib\\site-packages (from keras>=3.5.0->tensorflow) (0.1.0)\n",
      "Requirement already satisfied: urllib3<3,>=1.21.1 in d:\\cs-2019-063\\mbart50-2\\mbart50-env-1\\lib\\site-packages (from requests<3,>=2.21.0->tensorflow) (2.5.0)\n",
      "Requirement already satisfied: certifi>=2017.4.17 in d:\\cs-2019-063\\mbart50-2\\mbart50-env-1\\lib\\site-packages (from requests<3,>=2.21.0->tensorflow) (2025.6.15)\n",
      "Requirement already satisfied: idna<4,>=2.5 in d:\\cs-2019-063\\mbart50-2\\mbart50-env-1\\lib\\site-packages (from requests<3,>=2.21.0->tensorflow) (3.10)\n",
      "Requirement already satisfied: charset_normalizer<4,>=2 in d:\\cs-2019-063\\mbart50-2\\mbart50-env-1\\lib\\site-packages (from requests<3,>=2.21.0->tensorflow) (3.4.2)\n",
      "Requirement already satisfied: werkzeug>=1.0.1 in d:\\cs-2019-063\\mbart50-2\\mbart50-env-1\\lib\\site-packages (from tensorboard~=2.19.0->tensorflow) (3.1.3)\n",
      "Requirement already satisfied: tensorboard-data-server<0.8.0,>=0.7.0 in d:\\cs-2019-063\\mbart50-2\\mbart50-env-1\\lib\\site-packages (from tensorboard~=2.19.0->tensorflow) (0.7.2)\n",
      "Requirement already satisfied: markdown>=2.6.8 in d:\\cs-2019-063\\mbart50-2\\mbart50-env-1\\lib\\site-packages (from tensorboard~=2.19.0->tensorflow) (3.8.2)\n",
      "Requirement already satisfied: MarkupSafe>=2.1.1 in d:\\cs-2019-063\\mbart50-2\\mbart50-env-1\\lib\\site-packages (from werkzeug>=1.0.1->tensorboard~=2.19.0->tensorflow) (2.1.5)\n",
      "Collecting markdown-it-py>=2.2.0\n",
      "  Using cached markdown_it_py-3.0.0-py3-none-any.whl (87 kB)\n",
      "Requirement already satisfied: pygments<3.0.0,>=2.13.0 in d:\\cs-2019-063\\mbart50-2\\mbart50-env-1\\lib\\site-packages (from rich->keras>=3.5.0->tensorflow) (2.19.2)\n",
      "Collecting mdurl~=0.1\n",
      "  Using cached mdurl-0.1.2-py3-none-any.whl (10.0 kB)\n",
      "Installing collected packages: protobuf, optree, opt-einsum, ml-dtypes, mdurl, h5py, google-pasta, gast, astunparse, markdown-it-py, rich, keras, tensorflow\n",
      "  Attempting uninstall: protobuf\n",
      "    Found existing installation: protobuf 6.31.1\n",
      "    Uninstalling protobuf-6.31.1:\n",
      "      Successfully uninstalled protobuf-6.31.1\n",
      "Note: you may need to restart the kernel to use updated packages.\n"
     ]
    },
    {
     "name": "stderr",
     "output_type": "stream",
     "text": [
      "WARNING: Ignoring invalid distribution -rotobuf (d:\\cs-2019-063\\mbart50-2\\mbart50-env-1\\lib\\site-packages)\n",
      "WARNING: Ignoring invalid distribution -rotobuf (d:\\cs-2019-063\\mbart50-2\\mbart50-env-1\\lib\\site-packages)\n",
      "WARNING: Ignoring invalid distribution -rotobuf (d:\\cs-2019-063\\mbart50-2\\mbart50-env-1\\lib\\site-packages)\n",
      "    WARNING: Ignoring invalid distribution -rotobuf (d:\\cs-2019-063\\mbart50-2\\mbart50-env-1\\lib\\site-packages)\n",
      "ERROR: Could not install packages due to an OSError: [WinError 5] Access is denied: 'D:\\\\CS-2019-063\\\\mbart50-2\\\\mbart50-env-1\\\\Lib\\\\site-packages\\\\google\\\\~-pb\\\\_message.pyd'\n",
      "Check the permissions.\n",
      "\n",
      "WARNING: Ignoring invalid distribution -rotobuf (d:\\cs-2019-063\\mbart50-2\\mbart50-env-1\\lib\\site-packages)\n",
      "WARNING: Ignoring invalid distribution -rotobuf (d:\\cs-2019-063\\mbart50-2\\mbart50-env-1\\lib\\site-packages)\n",
      "WARNING: Ignoring invalid distribution -rotobuf (d:\\cs-2019-063\\mbart50-2\\mbart50-env-1\\lib\\site-packages)\n",
      "\n",
      "[notice] A new release of pip is available: 23.0.1 -> 25.1.1\n",
      "[notice] To update, run: python.exe -m pip install --upgrade pip\n"
     ]
    }
   ],
   "source": [
    "%pip uninstall tensorflow -y\n",
    "%pip install tensorflow"
   ]
  },
  {
   "cell_type": "code",
   "execution_count": 8,
   "id": "9f6fddec",
   "metadata": {},
   "outputs": [
    {
     "name": "stderr",
     "output_type": "stream",
     "text": [
      "Map:   0%|          | 0/10132 [00:00<?, ? examples/s]d:\\CS-2019-063\\mbart50-2\\mbart50-env-1\\lib\\site-packages\\transformers\\tokenization_utils_base.py:3951: UserWarning: `as_target_tokenizer` is deprecated and will be removed in v5 of Transformers. You can tokenize your labels by using the argument `text_target` of the regular `__call__` method (either in the same call as your input texts if you use the same keyword arguments, or in a separate call.\n",
      "  warnings.warn(\n",
      "Map: 100%|██████████| 10132/10132 [00:00<00:00, 10612.02 examples/s]\n"
     ]
    }
   ],
   "source": [
    "# Preprocess the dataset\n",
    "def preprocess_function(examples):\n",
    "    inputs = [ex for ex in examples[\"source\"]]  # Source: Tamil\n",
    "    targets = [ex for ex in examples[\"target\"]]  # Target: Sinhala\n",
    "    model_inputs = tokenizer(inputs, max_length=128, truncation=True)\n",
    "   \n",
    "    # Tokenize target language\n",
    "    with tokenizer.as_target_tokenizer():\n",
    "        labels = tokenizer(targets, max_length=128, truncation=True)\n",
    "    model_inputs[\"labels\"] = labels[\"input_ids\"]\n",
    "   \n",
    "    return model_inputs\n",
    "\n",
    "# Apply preprocessing\n",
    "tokenized_datasets = dataset.map(preprocess_function, batched=True)"
   ]
  },
  {
   "cell_type": "code",
   "execution_count": 9,
   "id": "f7e0cd4d",
   "metadata": {},
   "outputs": [
    {
     "name": "stdout",
     "output_type": "stream",
     "text": [
      "Requirement already satisfied: transformers[torch] in d:\\cs-2019-063\\mbart50-2\\mbart50-env-1\\lib\\site-packages (4.53.1)\n",
      "Requirement already satisfied: pyyaml>=5.1 in d:\\cs-2019-063\\mbart50-2\\mbart50-env-1\\lib\\site-packages (from transformers[torch]) (6.0.2)\n",
      "Requirement already satisfied: regex!=2019.12.17 in d:\\cs-2019-063\\mbart50-2\\mbart50-env-1\\lib\\site-packages (from transformers[torch]) (2024.11.6)\n",
      "Requirement already satisfied: tokenizers<0.22,>=0.21 in d:\\cs-2019-063\\mbart50-2\\mbart50-env-1\\lib\\site-packages (from transformers[torch]) (0.21.2)\n",
      "Requirement already satisfied: tqdm>=4.27 in d:\\cs-2019-063\\mbart50-2\\mbart50-env-1\\lib\\site-packages (from transformers[torch]) (4.67.1)\n",
      "Requirement already satisfied: requests in d:\\cs-2019-063\\mbart50-2\\mbart50-env-1\\lib\\site-packages (from transformers[torch]) (2.32.4)\n",
      "Requirement already satisfied: safetensors>=0.4.3 in d:\\cs-2019-063\\mbart50-2\\mbart50-env-1\\lib\\site-packages (from transformers[torch]) (0.5.3)\n",
      "Requirement already satisfied: numpy>=1.17 in d:\\cs-2019-063\\mbart50-2\\mbart50-env-1\\lib\\site-packages (from transformers[torch]) (2.1.2)\n",
      "Requirement already satisfied: packaging>=20.0 in d:\\cs-2019-063\\mbart50-2\\mbart50-env-1\\lib\\site-packages (from transformers[torch]) (25.0)\n",
      "Requirement already satisfied: filelock in d:\\cs-2019-063\\mbart50-2\\mbart50-env-1\\lib\\site-packages (from transformers[torch]) (3.13.1)\n",
      "Requirement already satisfied: huggingface-hub<1.0,>=0.30.0 in d:\\cs-2019-063\\mbart50-2\\mbart50-env-1\\lib\\site-packages (from transformers[torch]) (0.33.2)\n",
      "Requirement already satisfied: torch>=2.1 in d:\\cs-2019-063\\mbart50-2\\mbart50-env-1\\lib\\site-packages (from transformers[torch]) (2.7.1+cu118)\n",
      "Requirement already satisfied: accelerate>=0.26.0 in d:\\cs-2019-063\\mbart50-2\\mbart50-env-1\\lib\\site-packages (from transformers[torch]) (1.8.1)\n",
      "Requirement already satisfied: psutil in d:\\cs-2019-063\\mbart50-2\\mbart50-env-1\\lib\\site-packages (from accelerate>=0.26.0->transformers[torch]) (7.0.0)\n",
      "Requirement already satisfied: typing-extensions>=3.7.4.3 in d:\\cs-2019-063\\mbart50-2\\mbart50-env-1\\lib\\site-packages (from huggingface-hub<1.0,>=0.30.0->transformers[torch]) (4.14.1)\n",
      "Requirement already satisfied: fsspec>=2023.5.0 in d:\\cs-2019-063\\mbart50-2\\mbart50-env-1\\lib\\site-packages (from huggingface-hub<1.0,>=0.30.0->transformers[torch]) (2024.6.1)\n",
      "Requirement already satisfied: networkx in d:\\cs-2019-063\\mbart50-2\\mbart50-env-1\\lib\\site-packages (from torch>=2.1->transformers[torch]) (3.3)\n",
      "Requirement already satisfied: sympy>=1.13.3 in d:\\cs-2019-063\\mbart50-2\\mbart50-env-1\\lib\\site-packages (from torch>=2.1->transformers[torch]) (1.13.3)\n",
      "Requirement already satisfied: jinja2 in d:\\cs-2019-063\\mbart50-2\\mbart50-env-1\\lib\\site-packages (from torch>=2.1->transformers[torch]) (3.1.3)\n",
      "Requirement already satisfied: colorama in d:\\cs-2019-063\\mbart50-2\\mbart50-env-1\\lib\\site-packages (from tqdm>=4.27->transformers[torch]) (0.4.6)\n",
      "Requirement already satisfied: urllib3<3,>=1.21.1 in d:\\cs-2019-063\\mbart50-2\\mbart50-env-1\\lib\\site-packages (from requests->transformers[torch]) (2.5.0)\n",
      "Requirement already satisfied: charset_normalizer<4,>=2 in d:\\cs-2019-063\\mbart50-2\\mbart50-env-1\\lib\\site-packages (from requests->transformers[torch]) (3.4.2)\n",
      "Requirement already satisfied: idna<4,>=2.5 in d:\\cs-2019-063\\mbart50-2\\mbart50-env-1\\lib\\site-packages (from requests->transformers[torch]) (3.10)\n",
      "Requirement already satisfied: certifi>=2017.4.17 in d:\\cs-2019-063\\mbart50-2\\mbart50-env-1\\lib\\site-packages (from requests->transformers[torch]) (2025.6.15)\n",
      "Requirement already satisfied: mpmath<1.4,>=1.1.0 in d:\\cs-2019-063\\mbart50-2\\mbart50-env-1\\lib\\site-packages (from sympy>=1.13.3->torch>=2.1->transformers[torch]) (1.3.0)\n",
      "Requirement already satisfied: MarkupSafe>=2.0 in d:\\cs-2019-063\\mbart50-2\\mbart50-env-1\\lib\\site-packages (from jinja2->torch>=2.1->transformers[torch]) (2.1.5)\n",
      "Note: you may need to restart the kernel to use updated packages.\n"
     ]
    },
    {
     "name": "stderr",
     "output_type": "stream",
     "text": [
      "WARNING: Ignoring invalid distribution -rotobuf (d:\\cs-2019-063\\mbart50-2\\mbart50-env-1\\lib\\site-packages)\n",
      "WARNING: Ignoring invalid distribution - (d:\\cs-2019-063\\mbart50-2\\mbart50-env-1\\lib\\site-packages)\n",
      "WARNING: Ignoring invalid distribution -rotobuf (d:\\cs-2019-063\\mbart50-2\\mbart50-env-1\\lib\\site-packages)\n",
      "WARNING: Ignoring invalid distribution - (d:\\cs-2019-063\\mbart50-2\\mbart50-env-1\\lib\\site-packages)\n",
      "WARNING: Ignoring invalid distribution -rotobuf (d:\\cs-2019-063\\mbart50-2\\mbart50-env-1\\lib\\site-packages)\n",
      "WARNING: Ignoring invalid distribution - (d:\\cs-2019-063\\mbart50-2\\mbart50-env-1\\lib\\site-packages)\n",
      "WARNING: Ignoring invalid distribution -rotobuf (d:\\cs-2019-063\\mbart50-2\\mbart50-env-1\\lib\\site-packages)\n",
      "WARNING: Ignoring invalid distribution - (d:\\cs-2019-063\\mbart50-2\\mbart50-env-1\\lib\\site-packages)\n",
      "WARNING: Ignoring invalid distribution -rotobuf (d:\\cs-2019-063\\mbart50-2\\mbart50-env-1\\lib\\site-packages)\n",
      "WARNING: Ignoring invalid distribution - (d:\\cs-2019-063\\mbart50-2\\mbart50-env-1\\lib\\site-packages)\n",
      "WARNING: Ignoring invalid distribution -rotobuf (d:\\cs-2019-063\\mbart50-2\\mbart50-env-1\\lib\\site-packages)\n",
      "WARNING: Ignoring invalid distribution - (d:\\cs-2019-063\\mbart50-2\\mbart50-env-1\\lib\\site-packages)\n",
      "\n",
      "[notice] A new release of pip is available: 23.0.1 -> 25.1.1\n",
      "[notice] To update, run: python.exe -m pip install --upgrade pip\n"
     ]
    },
    {
     "name": "stdout",
     "output_type": "stream",
     "text": [
      "Requirement already satisfied: accelerate>=0.26.0 in d:\\cs-2019-063\\mbart50-2\\mbart50-env-1\\lib\\site-packages (1.8.1)\n",
      "Requirement already satisfied: huggingface_hub>=0.21.0 in d:\\cs-2019-063\\mbart50-2\\mbart50-env-1\\lib\\site-packages (from accelerate>=0.26.0) (0.33.2)\n",
      "Requirement already satisfied: psutil in d:\\cs-2019-063\\mbart50-2\\mbart50-env-1\\lib\\site-packages (from accelerate>=0.26.0) (7.0.0)\n",
      "Requirement already satisfied: packaging>=20.0 in d:\\cs-2019-063\\mbart50-2\\mbart50-env-1\\lib\\site-packages (from accelerate>=0.26.0) (25.0)\n",
      "Requirement already satisfied: numpy<3.0.0,>=1.17 in d:\\cs-2019-063\\mbart50-2\\mbart50-env-1\\lib\\site-packages (from accelerate>=0.26.0) (2.1.2)\n",
      "Requirement already satisfied: pyyaml in d:\\cs-2019-063\\mbart50-2\\mbart50-env-1\\lib\\site-packages (from accelerate>=0.26.0) (6.0.2)\n",
      "Requirement already satisfied: safetensors>=0.4.3 in d:\\cs-2019-063\\mbart50-2\\mbart50-env-1\\lib\\site-packages (from accelerate>=0.26.0) (0.5.3)\n",
      "Requirement already satisfied: torch>=2.0.0 in d:\\cs-2019-063\\mbart50-2\\mbart50-env-1\\lib\\site-packages (from accelerate>=0.26.0) (2.7.1+cu118)\n",
      "Requirement already satisfied: filelock in d:\\cs-2019-063\\mbart50-2\\mbart50-env-1\\lib\\site-packages (from huggingface_hub>=0.21.0->accelerate>=0.26.0) (3.13.1)\n",
      "Requirement already satisfied: tqdm>=4.42.1 in d:\\cs-2019-063\\mbart50-2\\mbart50-env-1\\lib\\site-packages (from huggingface_hub>=0.21.0->accelerate>=0.26.0) (4.67.1)\n",
      "Requirement already satisfied: requests in d:\\cs-2019-063\\mbart50-2\\mbart50-env-1\\lib\\site-packages (from huggingface_hub>=0.21.0->accelerate>=0.26.0) (2.32.4)\n",
      "Requirement already satisfied: typing-extensions>=3.7.4.3 in d:\\cs-2019-063\\mbart50-2\\mbart50-env-1\\lib\\site-packages (from huggingface_hub>=0.21.0->accelerate>=0.26.0) (4.14.1)\n",
      "Requirement already satisfied: fsspec>=2023.5.0 in d:\\cs-2019-063\\mbart50-2\\mbart50-env-1\\lib\\site-packages (from huggingface_hub>=0.21.0->accelerate>=0.26.0) (2024.6.1)\n",
      "Requirement already satisfied: jinja2 in d:\\cs-2019-063\\mbart50-2\\mbart50-env-1\\lib\\site-packages (from torch>=2.0.0->accelerate>=0.26.0) (3.1.3)\n",
      "Requirement already satisfied: networkx in d:\\cs-2019-063\\mbart50-2\\mbart50-env-1\\lib\\site-packages (from torch>=2.0.0->accelerate>=0.26.0) (3.3)\n",
      "Requirement already satisfied: sympy>=1.13.3 in d:\\cs-2019-063\\mbart50-2\\mbart50-env-1\\lib\\site-packages (from torch>=2.0.0->accelerate>=0.26.0) (1.13.3)\n",
      "Requirement already satisfied: mpmath<1.4,>=1.1.0 in d:\\cs-2019-063\\mbart50-2\\mbart50-env-1\\lib\\site-packages (from sympy>=1.13.3->torch>=2.0.0->accelerate>=0.26.0) (1.3.0)\n",
      "Requirement already satisfied: colorama in d:\\cs-2019-063\\mbart50-2\\mbart50-env-1\\lib\\site-packages (from tqdm>=4.42.1->huggingface_hub>=0.21.0->accelerate>=0.26.0) (0.4.6)\n",
      "Requirement already satisfied: MarkupSafe>=2.0 in d:\\cs-2019-063\\mbart50-2\\mbart50-env-1\\lib\\site-packages (from jinja2->torch>=2.0.0->accelerate>=0.26.0) (2.1.5)\n",
      "Requirement already satisfied: idna<4,>=2.5 in d:\\cs-2019-063\\mbart50-2\\mbart50-env-1\\lib\\site-packages (from requests->huggingface_hub>=0.21.0->accelerate>=0.26.0) (3.10)\n",
      "Requirement already satisfied: charset_normalizer<4,>=2 in d:\\cs-2019-063\\mbart50-2\\mbart50-env-1\\lib\\site-packages (from requests->huggingface_hub>=0.21.0->accelerate>=0.26.0) (3.4.2)\n",
      "Requirement already satisfied: urllib3<3,>=1.21.1 in d:\\cs-2019-063\\mbart50-2\\mbart50-env-1\\lib\\site-packages (from requests->huggingface_hub>=0.21.0->accelerate>=0.26.0) (2.5.0)\n",
      "Requirement already satisfied: certifi>=2017.4.17 in d:\\cs-2019-063\\mbart50-2\\mbart50-env-1\\lib\\site-packages (from requests->huggingface_hub>=0.21.0->accelerate>=0.26.0) (2025.6.15)\n",
      "Note: you may need to restart the kernel to use updated packages.\n"
     ]
    },
    {
     "name": "stderr",
     "output_type": "stream",
     "text": [
      "WARNING: Ignoring invalid distribution -rotobuf (d:\\cs-2019-063\\mbart50-2\\mbart50-env-1\\lib\\site-packages)\n",
      "WARNING: Ignoring invalid distribution - (d:\\cs-2019-063\\mbart50-2\\mbart50-env-1\\lib\\site-packages)\n",
      "WARNING: Ignoring invalid distribution -rotobuf (d:\\cs-2019-063\\mbart50-2\\mbart50-env-1\\lib\\site-packages)\n",
      "WARNING: Ignoring invalid distribution - (d:\\cs-2019-063\\mbart50-2\\mbart50-env-1\\lib\\site-packages)\n",
      "WARNING: Ignoring invalid distribution -rotobuf (d:\\cs-2019-063\\mbart50-2\\mbart50-env-1\\lib\\site-packages)\n",
      "WARNING: Ignoring invalid distribution - (d:\\cs-2019-063\\mbart50-2\\mbart50-env-1\\lib\\site-packages)\n",
      "WARNING: Ignoring invalid distribution -rotobuf (d:\\cs-2019-063\\mbart50-2\\mbart50-env-1\\lib\\site-packages)\n",
      "WARNING: Ignoring invalid distribution - (d:\\cs-2019-063\\mbart50-2\\mbart50-env-1\\lib\\site-packages)\n",
      "WARNING: Ignoring invalid distribution -rotobuf (d:\\cs-2019-063\\mbart50-2\\mbart50-env-1\\lib\\site-packages)\n",
      "WARNING: Ignoring invalid distribution - (d:\\cs-2019-063\\mbart50-2\\mbart50-env-1\\lib\\site-packages)\n",
      "WARNING: Ignoring invalid distribution -rotobuf (d:\\cs-2019-063\\mbart50-2\\mbart50-env-1\\lib\\site-packages)\n",
      "WARNING: Ignoring invalid distribution - (d:\\cs-2019-063\\mbart50-2\\mbart50-env-1\\lib\\site-packages)\n",
      "\n",
      "[notice] A new release of pip is available: 23.0.1 -> 25.1.1\n",
      "[notice] To update, run: python.exe -m pip install --upgrade pip\n"
     ]
    },
    {
     "name": "stdout",
     "output_type": "stream",
     "text": [
      "Requirement already satisfied: sacrebleu in d:\\cs-2019-063\\mbart50-2\\mbart50-env-1\\lib\\site-packages (2.5.1)\n",
      "Requirement already satisfied: numpy>=1.17 in d:\\cs-2019-063\\mbart50-2\\mbart50-env-1\\lib\\site-packages (from sacrebleu) (2.1.2)\n",
      "Requirement already satisfied: lxml in d:\\cs-2019-063\\mbart50-2\\mbart50-env-1\\lib\\site-packages (from sacrebleu) (6.0.0)\n",
      "Requirement already satisfied: tabulate>=0.8.9 in d:\\cs-2019-063\\mbart50-2\\mbart50-env-1\\lib\\site-packages (from sacrebleu) (0.9.0)\n",
      "Requirement already satisfied: colorama in d:\\cs-2019-063\\mbart50-2\\mbart50-env-1\\lib\\site-packages (from sacrebleu) (0.4.6)\n",
      "Requirement already satisfied: portalocker in d:\\cs-2019-063\\mbart50-2\\mbart50-env-1\\lib\\site-packages (from sacrebleu) (3.2.0)\n",
      "Requirement already satisfied: regex in d:\\cs-2019-063\\mbart50-2\\mbart50-env-1\\lib\\site-packages (from sacrebleu) (2024.11.6)\n",
      "Requirement already satisfied: pywin32>=226 in d:\\cs-2019-063\\mbart50-2\\mbart50-env-1\\lib\\site-packages (from portalocker->sacrebleu) (310)\n",
      "Note: you may need to restart the kernel to use updated packages.\n"
     ]
    },
    {
     "name": "stderr",
     "output_type": "stream",
     "text": [
      "WARNING: Ignoring invalid distribution -rotobuf (d:\\cs-2019-063\\mbart50-2\\mbart50-env-1\\lib\\site-packages)\n",
      "WARNING: Ignoring invalid distribution - (d:\\cs-2019-063\\mbart50-2\\mbart50-env-1\\lib\\site-packages)\n",
      "WARNING: Ignoring invalid distribution -rotobuf (d:\\cs-2019-063\\mbart50-2\\mbart50-env-1\\lib\\site-packages)\n",
      "WARNING: Ignoring invalid distribution - (d:\\cs-2019-063\\mbart50-2\\mbart50-env-1\\lib\\site-packages)\n",
      "WARNING: Ignoring invalid distribution -rotobuf (d:\\cs-2019-063\\mbart50-2\\mbart50-env-1\\lib\\site-packages)\n",
      "WARNING: Ignoring invalid distribution - (d:\\cs-2019-063\\mbart50-2\\mbart50-env-1\\lib\\site-packages)\n",
      "WARNING: Ignoring invalid distribution -rotobuf (d:\\cs-2019-063\\mbart50-2\\mbart50-env-1\\lib\\site-packages)\n",
      "WARNING: Ignoring invalid distribution - (d:\\cs-2019-063\\mbart50-2\\mbart50-env-1\\lib\\site-packages)\n",
      "WARNING: Ignoring invalid distribution -rotobuf (d:\\cs-2019-063\\mbart50-2\\mbart50-env-1\\lib\\site-packages)\n",
      "WARNING: Ignoring invalid distribution - (d:\\cs-2019-063\\mbart50-2\\mbart50-env-1\\lib\\site-packages)\n",
      "WARNING: Ignoring invalid distribution -rotobuf (d:\\cs-2019-063\\mbart50-2\\mbart50-env-1\\lib\\site-packages)\n",
      "WARNING: Ignoring invalid distribution - (d:\\cs-2019-063\\mbart50-2\\mbart50-env-1\\lib\\site-packages)\n",
      "\n",
      "[notice] A new release of pip is available: 23.0.1 -> 25.1.1\n",
      "[notice] To update, run: python.exe -m pip install --upgrade pip\n"
     ]
    },
    {
     "name": "stdout",
     "output_type": "stream",
     "text": [
      "Requirement already satisfied: evaluate in d:\\cs-2019-063\\mbart50-2\\mbart50-env-1\\lib\\site-packages (0.4.4)\n",
      "Requirement already satisfied: packaging in d:\\cs-2019-063\\mbart50-2\\mbart50-env-1\\lib\\site-packages (from evaluate) (25.0)\n",
      "Requirement already satisfied: numpy>=1.17 in d:\\cs-2019-063\\mbart50-2\\mbart50-env-1\\lib\\site-packages (from evaluate) (2.1.2)\n",
      "Requirement already satisfied: pandas in d:\\cs-2019-063\\mbart50-2\\mbart50-env-1\\lib\\site-packages (from evaluate) (2.3.0)\n",
      "Requirement already satisfied: dill in d:\\cs-2019-063\\mbart50-2\\mbart50-env-1\\lib\\site-packages (from evaluate) (0.3.8)\n",
      "Requirement already satisfied: multiprocess in d:\\cs-2019-063\\mbart50-2\\mbart50-env-1\\lib\\site-packages (from evaluate) (0.70.16)\n",
      "Requirement already satisfied: huggingface-hub>=0.7.0 in d:\\cs-2019-063\\mbart50-2\\mbart50-env-1\\lib\\site-packages (from evaluate) (0.33.2)\n",
      "Requirement already satisfied: tqdm>=4.62.1 in d:\\cs-2019-063\\mbart50-2\\mbart50-env-1\\lib\\site-packages (from evaluate) (4.67.1)\n",
      "Requirement already satisfied: requests>=2.19.0 in d:\\cs-2019-063\\mbart50-2\\mbart50-env-1\\lib\\site-packages (from evaluate) (2.32.4)\n",
      "Requirement already satisfied: fsspec[http]>=2021.05.0 in d:\\cs-2019-063\\mbart50-2\\mbart50-env-1\\lib\\site-packages (from evaluate) (2024.6.1)\n",
      "Requirement already satisfied: datasets>=2.0.0 in d:\\cs-2019-063\\mbart50-2\\mbart50-env-1\\lib\\site-packages (from evaluate) (3.6.0)\n",
      "Requirement already satisfied: xxhash in d:\\cs-2019-063\\mbart50-2\\mbart50-env-1\\lib\\site-packages (from evaluate) (3.5.0)\n",
      "Requirement already satisfied: pyarrow>=15.0.0 in d:\\cs-2019-063\\mbart50-2\\mbart50-env-1\\lib\\site-packages (from datasets>=2.0.0->evaluate) (20.0.0)\n",
      "Requirement already satisfied: filelock in d:\\cs-2019-063\\mbart50-2\\mbart50-env-1\\lib\\site-packages (from datasets>=2.0.0->evaluate) (3.13.1)\n",
      "Requirement already satisfied: pyyaml>=5.1 in d:\\cs-2019-063\\mbart50-2\\mbart50-env-1\\lib\\site-packages (from datasets>=2.0.0->evaluate) (6.0.2)\n",
      "Requirement already satisfied: aiohttp!=4.0.0a0,!=4.0.0a1 in d:\\cs-2019-063\\mbart50-2\\mbart50-env-1\\lib\\site-packages (from fsspec[http]>=2021.05.0->evaluate) (3.12.13)\n",
      "Requirement already satisfied: typing-extensions>=3.7.4.3 in d:\\cs-2019-063\\mbart50-2\\mbart50-env-1\\lib\\site-packages (from huggingface-hub>=0.7.0->evaluate) (4.14.1)\n",
      "Requirement already satisfied: charset_normalizer<4,>=2 in d:\\cs-2019-063\\mbart50-2\\mbart50-env-1\\lib\\site-packages (from requests>=2.19.0->evaluate) (3.4.2)\n",
      "Requirement already satisfied: idna<4,>=2.5 in d:\\cs-2019-063\\mbart50-2\\mbart50-env-1\\lib\\site-packages (from requests>=2.19.0->evaluate) (3.10)\n",
      "Requirement already satisfied: certifi>=2017.4.17 in d:\\cs-2019-063\\mbart50-2\\mbart50-env-1\\lib\\site-packages (from requests>=2.19.0->evaluate) (2025.6.15)\n",
      "Requirement already satisfied: urllib3<3,>=1.21.1 in d:\\cs-2019-063\\mbart50-2\\mbart50-env-1\\lib\\site-packages (from requests>=2.19.0->evaluate) (2.5.0)\n",
      "Requirement already satisfied: colorama in d:\\cs-2019-063\\mbart50-2\\mbart50-env-1\\lib\\site-packages (from tqdm>=4.62.1->evaluate) (0.4.6)\n",
      "Requirement already satisfied: python-dateutil>=2.8.2 in d:\\cs-2019-063\\mbart50-2\\mbart50-env-1\\lib\\site-packages (from pandas->evaluate) (2.9.0.post0)\n",
      "Requirement already satisfied: pytz>=2020.1 in d:\\cs-2019-063\\mbart50-2\\mbart50-env-1\\lib\\site-packages (from pandas->evaluate) (2025.2)\n",
      "Requirement already satisfied: tzdata>=2022.7 in d:\\cs-2019-063\\mbart50-2\\mbart50-env-1\\lib\\site-packages (from pandas->evaluate) (2025.2)\n",
      "Requirement already satisfied: async-timeout<6.0,>=4.0 in d:\\cs-2019-063\\mbart50-2\\mbart50-env-1\\lib\\site-packages (from aiohttp!=4.0.0a0,!=4.0.0a1->fsspec[http]>=2021.05.0->evaluate) (5.0.1)\n",
      "Requirement already satisfied: attrs>=17.3.0 in d:\\cs-2019-063\\mbart50-2\\mbart50-env-1\\lib\\site-packages (from aiohttp!=4.0.0a0,!=4.0.0a1->fsspec[http]>=2021.05.0->evaluate) (25.3.0)\n",
      "Requirement already satisfied: yarl<2.0,>=1.17.0 in d:\\cs-2019-063\\mbart50-2\\mbart50-env-1\\lib\\site-packages (from aiohttp!=4.0.0a0,!=4.0.0a1->fsspec[http]>=2021.05.0->evaluate) (1.20.1)\n",
      "Requirement already satisfied: frozenlist>=1.1.1 in d:\\cs-2019-063\\mbart50-2\\mbart50-env-1\\lib\\site-packages (from aiohttp!=4.0.0a0,!=4.0.0a1->fsspec[http]>=2021.05.0->evaluate) (1.7.0)\n",
      "Requirement already satisfied: multidict<7.0,>=4.5 in d:\\cs-2019-063\\mbart50-2\\mbart50-env-1\\lib\\site-packages (from aiohttp!=4.0.0a0,!=4.0.0a1->fsspec[http]>=2021.05.0->evaluate) (6.6.3)\n",
      "Requirement already satisfied: aiohappyeyeballs>=2.5.0 in d:\\cs-2019-063\\mbart50-2\\mbart50-env-1\\lib\\site-packages (from aiohttp!=4.0.0a0,!=4.0.0a1->fsspec[http]>=2021.05.0->evaluate) (2.6.1)\n",
      "Requirement already satisfied: propcache>=0.2.0 in d:\\cs-2019-063\\mbart50-2\\mbart50-env-1\\lib\\site-packages (from aiohttp!=4.0.0a0,!=4.0.0a1->fsspec[http]>=2021.05.0->evaluate) (0.3.2)\n",
      "Requirement already satisfied: aiosignal>=1.1.2 in d:\\cs-2019-063\\mbart50-2\\mbart50-env-1\\lib\\site-packages (from aiohttp!=4.0.0a0,!=4.0.0a1->fsspec[http]>=2021.05.0->evaluate) (1.4.0)\n",
      "Requirement already satisfied: six>=1.5 in d:\\cs-2019-063\\mbart50-2\\mbart50-env-1\\lib\\site-packages (from python-dateutil>=2.8.2->pandas->evaluate) (1.17.0)\n",
      "Note: you may need to restart the kernel to use updated packages.\n"
     ]
    },
    {
     "name": "stderr",
     "output_type": "stream",
     "text": [
      "WARNING: Ignoring invalid distribution -rotobuf (d:\\cs-2019-063\\mbart50-2\\mbart50-env-1\\lib\\site-packages)\n",
      "WARNING: Ignoring invalid distribution - (d:\\cs-2019-063\\mbart50-2\\mbart50-env-1\\lib\\site-packages)\n",
      "WARNING: Ignoring invalid distribution -rotobuf (d:\\cs-2019-063\\mbart50-2\\mbart50-env-1\\lib\\site-packages)\n",
      "WARNING: Ignoring invalid distribution - (d:\\cs-2019-063\\mbart50-2\\mbart50-env-1\\lib\\site-packages)\n",
      "WARNING: Ignoring invalid distribution -rotobuf (d:\\cs-2019-063\\mbart50-2\\mbart50-env-1\\lib\\site-packages)\n",
      "WARNING: Ignoring invalid distribution - (d:\\cs-2019-063\\mbart50-2\\mbart50-env-1\\lib\\site-packages)\n",
      "WARNING: Ignoring invalid distribution -rotobuf (d:\\cs-2019-063\\mbart50-2\\mbart50-env-1\\lib\\site-packages)\n",
      "WARNING: Ignoring invalid distribution - (d:\\cs-2019-063\\mbart50-2\\mbart50-env-1\\lib\\site-packages)\n",
      "WARNING: Ignoring invalid distribution -rotobuf (d:\\cs-2019-063\\mbart50-2\\mbart50-env-1\\lib\\site-packages)\n",
      "WARNING: Ignoring invalid distribution - (d:\\cs-2019-063\\mbart50-2\\mbart50-env-1\\lib\\site-packages)\n",
      "WARNING: Ignoring invalid distribution -rotobuf (d:\\cs-2019-063\\mbart50-2\\mbart50-env-1\\lib\\site-packages)\n",
      "WARNING: Ignoring invalid distribution - (d:\\cs-2019-063\\mbart50-2\\mbart50-env-1\\lib\\site-packages)\n",
      "\n",
      "[notice] A new release of pip is available: 23.0.1 -> 25.1.1\n",
      "[notice] To update, run: python.exe -m pip install --upgrade pip\n"
     ]
    }
   ],
   "source": [
    "%pip install -U \"transformers[torch]\"\n",
    "%pip install -U \"accelerate>=0.26.0\"\n",
    "\n",
    "%pip install sacrebleu\n",
    "%pip install evaluate"
   ]
  },
  {
   "cell_type": "code",
   "execution_count": 10,
   "id": "b0a63dbb",
   "metadata": {},
   "outputs": [],
   "source": [
    "from transformers import TrainerCallback\n",
    "import os\n",
    "\n",
    "\n",
    "class SavePerEpochCallback(TrainerCallback):\n",
    "    def __init__(self, tokenizer):\n",
    "        self.tokenizer = tokenizer\n",
    "\n",
    "\n",
    "    def on_epoch_end(self, args, state, control, **kwargs):\n",
    "        epoch_dir = os.path.join(args.output_dir, f\"epoch_{int(state.epoch)}_model\")\n",
    "        os.makedirs(epoch_dir, exist_ok=True)\n",
    "        kwargs[\"model\"].save_pretrained(epoch_dir)\n",
    "        self.tokenizer.save_pretrained(epoch_dir)\n",
    "        return control\n"
   ]
  },
  {
   "cell_type": "code",
   "execution_count": 11,
   "id": "c06f4a95",
   "metadata": {},
   "outputs": [
    {
     "name": "stdout",
     "output_type": "stream",
     "text": [
      "Requirement already satisfied: rouge_score in d:\\cs-2019-063\\mbart50-2\\mbart50-env-1\\lib\\site-packages (0.1.2)\n",
      "Requirement already satisfied: six>=1.14.0 in d:\\cs-2019-063\\mbart50-2\\mbart50-env-1\\lib\\site-packages (from rouge_score) (1.17.0)\n",
      "Requirement already satisfied: numpy in d:\\cs-2019-063\\mbart50-2\\mbart50-env-1\\lib\\site-packages (from rouge_score) (2.1.2)\n",
      "Requirement already satisfied: absl-py in d:\\cs-2019-063\\mbart50-2\\mbart50-env-1\\lib\\site-packages (from rouge_score) (2.3.1)\n",
      "Requirement already satisfied: nltk in d:\\cs-2019-063\\mbart50-2\\mbart50-env-1\\lib\\site-packages (from rouge_score) (3.9.1)\n",
      "Requirement already satisfied: joblib in d:\\cs-2019-063\\mbart50-2\\mbart50-env-1\\lib\\site-packages (from nltk->rouge_score) (1.5.1)\n",
      "Requirement already satisfied: regex>=2021.8.3 in d:\\cs-2019-063\\mbart50-2\\mbart50-env-1\\lib\\site-packages (from nltk->rouge_score) (2024.11.6)\n",
      "Requirement already satisfied: tqdm in d:\\cs-2019-063\\mbart50-2\\mbart50-env-1\\lib\\site-packages (from nltk->rouge_score) (4.67.1)\n",
      "Requirement already satisfied: click in d:\\cs-2019-063\\mbart50-2\\mbart50-env-1\\lib\\site-packages (from nltk->rouge_score) (8.2.1)\n",
      "Requirement already satisfied: colorama in d:\\cs-2019-063\\mbart50-2\\mbart50-env-1\\lib\\site-packages (from click->nltk->rouge_score) (0.4.6)\n"
     ]
    },
    {
     "name": "stderr",
     "output_type": "stream",
     "text": [
      "WARNING: Ignoring invalid distribution -rotobuf (d:\\cs-2019-063\\mbart50-2\\mbart50-env-1\\lib\\site-packages)\n",
      "WARNING: Ignoring invalid distribution - (d:\\cs-2019-063\\mbart50-2\\mbart50-env-1\\lib\\site-packages)\n",
      "WARNING: Ignoring invalid distribution -rotobuf (d:\\cs-2019-063\\mbart50-2\\mbart50-env-1\\lib\\site-packages)\n",
      "WARNING: Ignoring invalid distribution - (d:\\cs-2019-063\\mbart50-2\\mbart50-env-1\\lib\\site-packages)\n",
      "WARNING: Ignoring invalid distribution -rotobuf (d:\\cs-2019-063\\mbart50-2\\mbart50-env-1\\lib\\site-packages)\n",
      "WARNING: Ignoring invalid distribution - (d:\\cs-2019-063\\mbart50-2\\mbart50-env-1\\lib\\site-packages)\n",
      "WARNING: Ignoring invalid distribution -rotobuf (d:\\cs-2019-063\\mbart50-2\\mbart50-env-1\\lib\\site-packages)\n",
      "WARNING: Ignoring invalid distribution - (d:\\cs-2019-063\\mbart50-2\\mbart50-env-1\\lib\\site-packages)\n",
      "WARNING: Ignoring invalid distribution -rotobuf (d:\\cs-2019-063\\mbart50-2\\mbart50-env-1\\lib\\site-packages)\n",
      "WARNING: Ignoring invalid distribution - (d:\\cs-2019-063\\mbart50-2\\mbart50-env-1\\lib\\site-packages)\n",
      "WARNING: Ignoring invalid distribution -rotobuf (d:\\cs-2019-063\\mbart50-2\\mbart50-env-1\\lib\\site-packages)\n",
      "WARNING: Ignoring invalid distribution - (d:\\cs-2019-063\\mbart50-2\\mbart50-env-1\\lib\\site-packages)\n",
      "\n",
      "[notice] A new release of pip is available: 23.0.1 -> 25.1.1\n",
      "[notice] To update, run: python.exe -m pip install --upgrade pip\n"
     ]
    },
    {
     "name": "stdout",
     "output_type": "stream",
     "text": [
      "Requirement already satisfied: bert_score in d:\\cs-2019-063\\mbart50-2\\mbart50-env-1\\lib\\site-packages (0.3.13)\n",
      "Requirement already satisfied: tqdm>=4.31.1 in d:\\cs-2019-063\\mbart50-2\\mbart50-env-1\\lib\\site-packages (from bert_score) (4.67.1)\n",
      "Requirement already satisfied: matplotlib in d:\\cs-2019-063\\mbart50-2\\mbart50-env-1\\lib\\site-packages (from bert_score) (3.10.3)\n",
      "Requirement already satisfied: packaging>=20.9 in d:\\cs-2019-063\\mbart50-2\\mbart50-env-1\\lib\\site-packages (from bert_score) (25.0)\n",
      "Requirement already satisfied: torch>=1.0.0 in d:\\cs-2019-063\\mbart50-2\\mbart50-env-1\\lib\\site-packages (from bert_score) (2.7.1+cu118)\n",
      "Requirement already satisfied: requests in d:\\cs-2019-063\\mbart50-2\\mbart50-env-1\\lib\\site-packages (from bert_score) (2.32.4)\n",
      "Requirement already satisfied: numpy in d:\\cs-2019-063\\mbart50-2\\mbart50-env-1\\lib\\site-packages (from bert_score) (2.1.2)\n",
      "Requirement already satisfied: pandas>=1.0.1 in d:\\cs-2019-063\\mbart50-2\\mbart50-env-1\\lib\\site-packages (from bert_score) (2.3.0)\n",
      "Requirement already satisfied: transformers>=3.0.0 in d:\\cs-2019-063\\mbart50-2\\mbart50-env-1\\lib\\site-packages (from bert_score) (4.53.1)\n",
      "Requirement already satisfied: python-dateutil>=2.8.2 in d:\\cs-2019-063\\mbart50-2\\mbart50-env-1\\lib\\site-packages (from pandas>=1.0.1->bert_score) (2.9.0.post0)\n",
      "Requirement already satisfied: tzdata>=2022.7 in d:\\cs-2019-063\\mbart50-2\\mbart50-env-1\\lib\\site-packages (from pandas>=1.0.1->bert_score) (2025.2)\n",
      "Requirement already satisfied: pytz>=2020.1 in d:\\cs-2019-063\\mbart50-2\\mbart50-env-1\\lib\\site-packages (from pandas>=1.0.1->bert_score) (2025.2)\n",
      "Requirement already satisfied: networkx in d:\\cs-2019-063\\mbart50-2\\mbart50-env-1\\lib\\site-packages (from torch>=1.0.0->bert_score) (3.3)\n",
      "Requirement already satisfied: fsspec in d:\\cs-2019-063\\mbart50-2\\mbart50-env-1\\lib\\site-packages (from torch>=1.0.0->bert_score) (2024.6.1)\n",
      "Requirement already satisfied: jinja2 in d:\\cs-2019-063\\mbart50-2\\mbart50-env-1\\lib\\site-packages (from torch>=1.0.0->bert_score) (3.1.3)\n",
      "Requirement already satisfied: typing-extensions>=4.10.0 in d:\\cs-2019-063\\mbart50-2\\mbart50-env-1\\lib\\site-packages (from torch>=1.0.0->bert_score) (4.14.1)\n",
      "Requirement already satisfied: filelock in d:\\cs-2019-063\\mbart50-2\\mbart50-env-1\\lib\\site-packages (from torch>=1.0.0->bert_score) (3.13.1)\n",
      "Requirement already satisfied: sympy>=1.13.3 in d:\\cs-2019-063\\mbart50-2\\mbart50-env-1\\lib\\site-packages (from torch>=1.0.0->bert_score) (1.13.3)\n",
      "Requirement already satisfied: colorama in d:\\cs-2019-063\\mbart50-2\\mbart50-env-1\\lib\\site-packages (from tqdm>=4.31.1->bert_score) (0.4.6)\n",
      "Requirement already satisfied: tokenizers<0.22,>=0.21 in d:\\cs-2019-063\\mbart50-2\\mbart50-env-1\\lib\\site-packages (from transformers>=3.0.0->bert_score) (0.21.2)\n",
      "Requirement already satisfied: pyyaml>=5.1 in d:\\cs-2019-063\\mbart50-2\\mbart50-env-1\\lib\\site-packages (from transformers>=3.0.0->bert_score) (6.0.2)\n",
      "Requirement already satisfied: safetensors>=0.4.3 in d:\\cs-2019-063\\mbart50-2\\mbart50-env-1\\lib\\site-packages (from transformers>=3.0.0->bert_score) (0.5.3)\n",
      "Requirement already satisfied: huggingface-hub<1.0,>=0.30.0 in d:\\cs-2019-063\\mbart50-2\\mbart50-env-1\\lib\\site-packages (from transformers>=3.0.0->bert_score) (0.33.2)\n",
      "Requirement already satisfied: regex!=2019.12.17 in d:\\cs-2019-063\\mbart50-2\\mbart50-env-1\\lib\\site-packages (from transformers>=3.0.0->bert_score) (2024.11.6)\n",
      "Requirement already satisfied: cycler>=0.10 in d:\\cs-2019-063\\mbart50-2\\mbart50-env-1\\lib\\site-packages (from matplotlib->bert_score) (0.12.1)\n",
      "Requirement already satisfied: fonttools>=4.22.0 in d:\\cs-2019-063\\mbart50-2\\mbart50-env-1\\lib\\site-packages (from matplotlib->bert_score) (4.58.5)\n",
      "Requirement already satisfied: pillow>=8 in d:\\cs-2019-063\\mbart50-2\\mbart50-env-1\\lib\\site-packages (from matplotlib->bert_score) (11.0.0)\n",
      "Requirement already satisfied: contourpy>=1.0.1 in d:\\cs-2019-063\\mbart50-2\\mbart50-env-1\\lib\\site-packages (from matplotlib->bert_score) (1.3.2)\n",
      "Requirement already satisfied: kiwisolver>=1.3.1 in d:\\cs-2019-063\\mbart50-2\\mbart50-env-1\\lib\\site-packages (from matplotlib->bert_score) (1.4.8)\n",
      "Requirement already satisfied: pyparsing>=2.3.1 in d:\\cs-2019-063\\mbart50-2\\mbart50-env-1\\lib\\site-packages (from matplotlib->bert_score) (3.2.3)\n",
      "Requirement already satisfied: charset_normalizer<4,>=2 in d:\\cs-2019-063\\mbart50-2\\mbart50-env-1\\lib\\site-packages (from requests->bert_score) (3.4.2)\n",
      "Requirement already satisfied: urllib3<3,>=1.21.1 in d:\\cs-2019-063\\mbart50-2\\mbart50-env-1\\lib\\site-packages (from requests->bert_score) (2.5.0)\n",
      "Requirement already satisfied: certifi>=2017.4.17 in d:\\cs-2019-063\\mbart50-2\\mbart50-env-1\\lib\\site-packages (from requests->bert_score) (2025.6.15)\n",
      "Requirement already satisfied: idna<4,>=2.5 in d:\\cs-2019-063\\mbart50-2\\mbart50-env-1\\lib\\site-packages (from requests->bert_score) (3.10)\n",
      "Requirement already satisfied: six>=1.5 in d:\\cs-2019-063\\mbart50-2\\mbart50-env-1\\lib\\site-packages (from python-dateutil>=2.8.2->pandas>=1.0.1->bert_score) (1.17.0)\n",
      "Requirement already satisfied: mpmath<1.4,>=1.1.0 in d:\\cs-2019-063\\mbart50-2\\mbart50-env-1\\lib\\site-packages (from sympy>=1.13.3->torch>=1.0.0->bert_score) (1.3.0)\n",
      "Requirement already satisfied: MarkupSafe>=2.0 in d:\\cs-2019-063\\mbart50-2\\mbart50-env-1\\lib\\site-packages (from jinja2->torch>=1.0.0->bert_score) (2.1.5)\n"
     ]
    },
    {
     "name": "stderr",
     "output_type": "stream",
     "text": [
      "WARNING: Ignoring invalid distribution -rotobuf (d:\\cs-2019-063\\mbart50-2\\mbart50-env-1\\lib\\site-packages)\n",
      "WARNING: Ignoring invalid distribution - (d:\\cs-2019-063\\mbart50-2\\mbart50-env-1\\lib\\site-packages)\n",
      "WARNING: Ignoring invalid distribution -rotobuf (d:\\cs-2019-063\\mbart50-2\\mbart50-env-1\\lib\\site-packages)\n",
      "WARNING: Ignoring invalid distribution - (d:\\cs-2019-063\\mbart50-2\\mbart50-env-1\\lib\\site-packages)\n",
      "WARNING: Ignoring invalid distribution -rotobuf (d:\\cs-2019-063\\mbart50-2\\mbart50-env-1\\lib\\site-packages)\n",
      "WARNING: Ignoring invalid distribution - (d:\\cs-2019-063\\mbart50-2\\mbart50-env-1\\lib\\site-packages)\n",
      "WARNING: Ignoring invalid distribution -rotobuf (d:\\cs-2019-063\\mbart50-2\\mbart50-env-1\\lib\\site-packages)\n",
      "WARNING: Ignoring invalid distribution - (d:\\cs-2019-063\\mbart50-2\\mbart50-env-1\\lib\\site-packages)\n",
      "WARNING: Ignoring invalid distribution -rotobuf (d:\\cs-2019-063\\mbart50-2\\mbart50-env-1\\lib\\site-packages)\n",
      "WARNING: Ignoring invalid distribution - (d:\\cs-2019-063\\mbart50-2\\mbart50-env-1\\lib\\site-packages)\n",
      "WARNING: Ignoring invalid distribution -rotobuf (d:\\cs-2019-063\\mbart50-2\\mbart50-env-1\\lib\\site-packages)\n",
      "WARNING: Ignoring invalid distribution - (d:\\cs-2019-063\\mbart50-2\\mbart50-env-1\\lib\\site-packages)\n",
      "\n",
      "[notice] A new release of pip is available: 23.0.1 -> 25.1.1\n",
      "[notice] To update, run: python.exe -m pip install --upgrade pip\n"
     ]
    }
   ],
   "source": [
    "! pip install rouge_score\n",
    "\n",
    "! pip install bert_score\n"
   ]
  },
  {
   "cell_type": "code",
   "execution_count": 12,
   "id": "bd60a1b4",
   "metadata": {},
   "outputs": [],
   "source": [
    "from evaluate import load\n",
    "import numpy as np\n",
    "import torch\n",
    "\n",
    "\n",
    "bleu = load(\"sacrebleu\")\n",
    "rouge = load(\"rouge\")\n",
    "chrf = load(\"chrf\")\n",
    "bart_score = load(\"bertscore\")  # No direct \"bartscore\", use bertscore or integrate external lib\n",
    "\n",
    "\n",
    "def postprocess_text(preds, labels):\n",
    "    preds = [pred.strip() for pred in preds]\n",
    "    labels = [[label.strip()] for label in labels]\n",
    "    return preds, labels\n",
    "\n",
    "\n",
    "def compute_metrics(eval_preds):\n",
    "    preds, labels = eval_preds\n",
    "    labels = np.where(labels != -100, labels, tokenizer.pad_token_id)\n",
    "\n",
    "\n",
    "    decoded_preds = tokenizer.batch_decode(preds, skip_special_tokens=True)\n",
    "    decoded_labels = tokenizer.batch_decode(labels, skip_special_tokens=True)\n",
    "\n",
    "\n",
    "    decoded_preds, decoded_labels = postprocess_text(decoded_preds, decoded_labels)\n",
    "\n",
    "\n",
    "    bleu_result = bleu.compute(predictions=decoded_preds, references=decoded_labels)\n",
    "    rouge_result = rouge.compute(predictions=decoded_preds, references=[l[0] for l in decoded_labels])\n",
    "    chrf_result = chrf.compute(predictions=decoded_preds, references=decoded_labels)\n",
    "    bertscore_result = bart_score.compute(predictions=decoded_preds, references=[l[0] for l in decoded_labels], lang=\"si\")\n",
    "\n",
    "\n",
    "    # Exact Match\n",
    "    em = np.mean([p == l[0] for p, l in zip(decoded_preds, decoded_labels)])\n",
    "\n",
    "\n",
    "    # Token Accuracy\n",
    "    total = correct = 0\n",
    "    for pred, label in zip(decoded_preds, decoded_labels):\n",
    "        pred_tokens = pred.split()\n",
    "        label_tokens = label[0].split()\n",
    "        total += len(label_tokens)\n",
    "        correct += sum([p == l for p, l in zip(pred_tokens, label_tokens)])\n",
    "    token_acc = correct / total if total > 0 else 0\n",
    "\n",
    "\n",
    "    return {\n",
    "        \"bleu\": bleu_result[\"score\"],\n",
    "        \"rougeL\": rouge_result[\"rougeL\"],\n",
    "        \"chrf\": chrf_result[\"score\"],\n",
    "        \"exact_match\": em,\n",
    "        \"token_accuracy\": token_acc,\n",
    "        \"bertscore_f1\": np.mean(bertscore_result[\"f1\"])\n",
    "    }\n"
   ]
  },
  {
   "cell_type": "code",
   "execution_count": 13,
   "id": "993b93f2",
   "metadata": {},
   "outputs": [
    {
     "name": "stdout",
     "output_type": "stream",
     "text": [
      "Requirement already satisfied: transformers[torch] in d:\\cs-2019-063\\mbart50-2\\mbart50-env-1\\lib\\site-packages (4.53.1)\n",
      "Requirement already satisfied: numpy>=1.17 in d:\\cs-2019-063\\mbart50-2\\mbart50-env-1\\lib\\site-packages (from transformers[torch]) (2.1.2)\n",
      "Requirement already satisfied: pyyaml>=5.1 in d:\\cs-2019-063\\mbart50-2\\mbart50-env-1\\lib\\site-packages (from transformers[torch]) (6.0.2)\n",
      "Requirement already satisfied: tqdm>=4.27 in d:\\cs-2019-063\\mbart50-2\\mbart50-env-1\\lib\\site-packages (from transformers[torch]) (4.67.1)\n",
      "Requirement already satisfied: tokenizers<0.22,>=0.21 in d:\\cs-2019-063\\mbart50-2\\mbart50-env-1\\lib\\site-packages (from transformers[torch]) (0.21.2)\n",
      "Requirement already satisfied: requests in d:\\cs-2019-063\\mbart50-2\\mbart50-env-1\\lib\\site-packages (from transformers[torch]) (2.32.4)\n",
      "Requirement already satisfied: safetensors>=0.4.3 in d:\\cs-2019-063\\mbart50-2\\mbart50-env-1\\lib\\site-packages (from transformers[torch]) (0.5.3)\n",
      "Requirement already satisfied: regex!=2019.12.17 in d:\\cs-2019-063\\mbart50-2\\mbart50-env-1\\lib\\site-packages (from transformers[torch]) (2024.11.6)\n",
      "Requirement already satisfied: packaging>=20.0 in d:\\cs-2019-063\\mbart50-2\\mbart50-env-1\\lib\\site-packages (from transformers[torch]) (25.0)\n",
      "Requirement already satisfied: huggingface-hub<1.0,>=0.30.0 in d:\\cs-2019-063\\mbart50-2\\mbart50-env-1\\lib\\site-packages (from transformers[torch]) (0.33.2)\n",
      "Requirement already satisfied: filelock in d:\\cs-2019-063\\mbart50-2\\mbart50-env-1\\lib\\site-packages (from transformers[torch]) (3.13.1)\n",
      "Requirement already satisfied: accelerate>=0.26.0 in d:\\cs-2019-063\\mbart50-2\\mbart50-env-1\\lib\\site-packages (from transformers[torch]) (1.8.1)\n",
      "Requirement already satisfied: torch>=2.1 in d:\\cs-2019-063\\mbart50-2\\mbart50-env-1\\lib\\site-packages (from transformers[torch]) (2.7.1+cu118)\n",
      "Requirement already satisfied: psutil in d:\\cs-2019-063\\mbart50-2\\mbart50-env-1\\lib\\site-packages (from accelerate>=0.26.0->transformers[torch]) (7.0.0)\n",
      "Requirement already satisfied: fsspec>=2023.5.0 in d:\\cs-2019-063\\mbart50-2\\mbart50-env-1\\lib\\site-packages (from huggingface-hub<1.0,>=0.30.0->transformers[torch]) (2024.6.1)\n",
      "Requirement already satisfied: typing-extensions>=3.7.4.3 in d:\\cs-2019-063\\mbart50-2\\mbart50-env-1\\lib\\site-packages (from huggingface-hub<1.0,>=0.30.0->transformers[torch]) (4.14.1)\n",
      "Requirement already satisfied: networkx in d:\\cs-2019-063\\mbart50-2\\mbart50-env-1\\lib\\site-packages (from torch>=2.1->transformers[torch]) (3.3)\n",
      "Requirement already satisfied: jinja2 in d:\\cs-2019-063\\mbart50-2\\mbart50-env-1\\lib\\site-packages (from torch>=2.1->transformers[torch]) (3.1.3)\n",
      "Requirement already satisfied: sympy>=1.13.3 in d:\\cs-2019-063\\mbart50-2\\mbart50-env-1\\lib\\site-packages (from torch>=2.1->transformers[torch]) (1.13.3)\n",
      "Requirement already satisfied: colorama in d:\\cs-2019-063\\mbart50-2\\mbart50-env-1\\lib\\site-packages (from tqdm>=4.27->transformers[torch]) (0.4.6)\n",
      "Requirement already satisfied: certifi>=2017.4.17 in d:\\cs-2019-063\\mbart50-2\\mbart50-env-1\\lib\\site-packages (from requests->transformers[torch]) (2025.6.15)\n",
      "Requirement already satisfied: charset_normalizer<4,>=2 in d:\\cs-2019-063\\mbart50-2\\mbart50-env-1\\lib\\site-packages (from requests->transformers[torch]) (3.4.2)\n",
      "Requirement already satisfied: urllib3<3,>=1.21.1 in d:\\cs-2019-063\\mbart50-2\\mbart50-env-1\\lib\\site-packages (from requests->transformers[torch]) (2.5.0)\n",
      "Requirement already satisfied: idna<4,>=2.5 in d:\\cs-2019-063\\mbart50-2\\mbart50-env-1\\lib\\site-packages (from requests->transformers[torch]) (3.10)\n",
      "Requirement already satisfied: mpmath<1.4,>=1.1.0 in d:\\cs-2019-063\\mbart50-2\\mbart50-env-1\\lib\\site-packages (from sympy>=1.13.3->torch>=2.1->transformers[torch]) (1.3.0)\n",
      "Requirement already satisfied: MarkupSafe>=2.0 in d:\\cs-2019-063\\mbart50-2\\mbart50-env-1\\lib\\site-packages (from jinja2->torch>=2.1->transformers[torch]) (2.1.5)\n",
      "Note: you may need to restart the kernel to use updated packages.\n"
     ]
    },
    {
     "name": "stderr",
     "output_type": "stream",
     "text": [
      "WARNING: Ignoring invalid distribution -rotobuf (d:\\cs-2019-063\\mbart50-2\\mbart50-env-1\\lib\\site-packages)\n",
      "WARNING: Ignoring invalid distribution - (d:\\cs-2019-063\\mbart50-2\\mbart50-env-1\\lib\\site-packages)\n",
      "WARNING: Ignoring invalid distribution -rotobuf (d:\\cs-2019-063\\mbart50-2\\mbart50-env-1\\lib\\site-packages)\n",
      "WARNING: Ignoring invalid distribution - (d:\\cs-2019-063\\mbart50-2\\mbart50-env-1\\lib\\site-packages)\n",
      "WARNING: Ignoring invalid distribution -rotobuf (d:\\cs-2019-063\\mbart50-2\\mbart50-env-1\\lib\\site-packages)\n",
      "WARNING: Ignoring invalid distribution - (d:\\cs-2019-063\\mbart50-2\\mbart50-env-1\\lib\\site-packages)\n",
      "WARNING: Ignoring invalid distribution -rotobuf (d:\\cs-2019-063\\mbart50-2\\mbart50-env-1\\lib\\site-packages)\n",
      "WARNING: Ignoring invalid distribution - (d:\\cs-2019-063\\mbart50-2\\mbart50-env-1\\lib\\site-packages)\n",
      "WARNING: Ignoring invalid distribution -rotobuf (d:\\cs-2019-063\\mbart50-2\\mbart50-env-1\\lib\\site-packages)\n",
      "WARNING: Ignoring invalid distribution - (d:\\cs-2019-063\\mbart50-2\\mbart50-env-1\\lib\\site-packages)\n",
      "WARNING: Ignoring invalid distribution -rotobuf (d:\\cs-2019-063\\mbart50-2\\mbart50-env-1\\lib\\site-packages)\n",
      "WARNING: Ignoring invalid distribution - (d:\\cs-2019-063\\mbart50-2\\mbart50-env-1\\lib\\site-packages)\n",
      "\n",
      "[notice] A new release of pip is available: 23.0.1 -> 25.1.1\n",
      "[notice] To update, run: python.exe -m pip install --upgrade pip\n"
     ]
    },
    {
     "name": "stdout",
     "output_type": "stream",
     "text": [
      "Requirement already satisfied: accelerate in d:\\cs-2019-063\\mbart50-2\\mbart50-env-1\\lib\\site-packages (1.8.1)\n",
      "Requirement already satisfied: pyyaml in d:\\cs-2019-063\\mbart50-2\\mbart50-env-1\\lib\\site-packages (from accelerate) (6.0.2)\n",
      "Requirement already satisfied: numpy<3.0.0,>=1.17 in d:\\cs-2019-063\\mbart50-2\\mbart50-env-1\\lib\\site-packages (from accelerate) (2.1.2)\n",
      "Requirement already satisfied: packaging>=20.0 in d:\\cs-2019-063\\mbart50-2\\mbart50-env-1\\lib\\site-packages (from accelerate) (25.0)\n",
      "Requirement already satisfied: psutil in d:\\cs-2019-063\\mbart50-2\\mbart50-env-1\\lib\\site-packages (from accelerate) (7.0.0)\n",
      "Requirement already satisfied: huggingface_hub>=0.21.0 in d:\\cs-2019-063\\mbart50-2\\mbart50-env-1\\lib\\site-packages (from accelerate) (0.33.2)\n",
      "Requirement already satisfied: safetensors>=0.4.3 in d:\\cs-2019-063\\mbart50-2\\mbart50-env-1\\lib\\site-packages (from accelerate) (0.5.3)\n",
      "Requirement already satisfied: torch>=2.0.0 in d:\\cs-2019-063\\mbart50-2\\mbart50-env-1\\lib\\site-packages (from accelerate) (2.7.1+cu118)\n",
      "Requirement already satisfied: typing-extensions>=3.7.4.3 in d:\\cs-2019-063\\mbart50-2\\mbart50-env-1\\lib\\site-packages (from huggingface_hub>=0.21.0->accelerate) (4.14.1)\n",
      "Requirement already satisfied: fsspec>=2023.5.0 in d:\\cs-2019-063\\mbart50-2\\mbart50-env-1\\lib\\site-packages (from huggingface_hub>=0.21.0->accelerate) (2024.6.1)\n",
      "Requirement already satisfied: filelock in d:\\cs-2019-063\\mbart50-2\\mbart50-env-1\\lib\\site-packages (from huggingface_hub>=0.21.0->accelerate) (3.13.1)\n",
      "Requirement already satisfied: requests in d:\\cs-2019-063\\mbart50-2\\mbart50-env-1\\lib\\site-packages (from huggingface_hub>=0.21.0->accelerate) (2.32.4)\n",
      "Requirement already satisfied: tqdm>=4.42.1 in d:\\cs-2019-063\\mbart50-2\\mbart50-env-1\\lib\\site-packages (from huggingface_hub>=0.21.0->accelerate) (4.67.1)\n",
      "Requirement already satisfied: jinja2 in d:\\cs-2019-063\\mbart50-2\\mbart50-env-1\\lib\\site-packages (from torch>=2.0.0->accelerate) (3.1.3)\n",
      "Requirement already satisfied: sympy>=1.13.3 in d:\\cs-2019-063\\mbart50-2\\mbart50-env-1\\lib\\site-packages (from torch>=2.0.0->accelerate) (1.13.3)\n",
      "Requirement already satisfied: networkx in d:\\cs-2019-063\\mbart50-2\\mbart50-env-1\\lib\\site-packages (from torch>=2.0.0->accelerate) (3.3)\n",
      "Requirement already satisfied: mpmath<1.4,>=1.1.0 in d:\\cs-2019-063\\mbart50-2\\mbart50-env-1\\lib\\site-packages (from sympy>=1.13.3->torch>=2.0.0->accelerate) (1.3.0)\n",
      "Requirement already satisfied: colorama in d:\\cs-2019-063\\mbart50-2\\mbart50-env-1\\lib\\site-packages (from tqdm>=4.42.1->huggingface_hub>=0.21.0->accelerate) (0.4.6)\n",
      "Requirement already satisfied: MarkupSafe>=2.0 in d:\\cs-2019-063\\mbart50-2\\mbart50-env-1\\lib\\site-packages (from jinja2->torch>=2.0.0->accelerate) (2.1.5)\n",
      "Requirement already satisfied: charset_normalizer<4,>=2 in d:\\cs-2019-063\\mbart50-2\\mbart50-env-1\\lib\\site-packages (from requests->huggingface_hub>=0.21.0->accelerate) (3.4.2)\n",
      "Requirement already satisfied: certifi>=2017.4.17 in d:\\cs-2019-063\\mbart50-2\\mbart50-env-1\\lib\\site-packages (from requests->huggingface_hub>=0.21.0->accelerate) (2025.6.15)\n",
      "Requirement already satisfied: urllib3<3,>=1.21.1 in d:\\cs-2019-063\\mbart50-2\\mbart50-env-1\\lib\\site-packages (from requests->huggingface_hub>=0.21.0->accelerate) (2.5.0)\n",
      "Requirement already satisfied: idna<4,>=2.5 in d:\\cs-2019-063\\mbart50-2\\mbart50-env-1\\lib\\site-packages (from requests->huggingface_hub>=0.21.0->accelerate) (3.10)\n",
      "Note: you may need to restart the kernel to use updated packages.\n"
     ]
    },
    {
     "name": "stderr",
     "output_type": "stream",
     "text": [
      "WARNING: Ignoring invalid distribution -rotobuf (d:\\cs-2019-063\\mbart50-2\\mbart50-env-1\\lib\\site-packages)\n",
      "WARNING: Ignoring invalid distribution - (d:\\cs-2019-063\\mbart50-2\\mbart50-env-1\\lib\\site-packages)\n",
      "WARNING: Ignoring invalid distribution -rotobuf (d:\\cs-2019-063\\mbart50-2\\mbart50-env-1\\lib\\site-packages)\n",
      "WARNING: Ignoring invalid distribution - (d:\\cs-2019-063\\mbart50-2\\mbart50-env-1\\lib\\site-packages)\n",
      "WARNING: Ignoring invalid distribution -rotobuf (d:\\cs-2019-063\\mbart50-2\\mbart50-env-1\\lib\\site-packages)\n",
      "WARNING: Ignoring invalid distribution - (d:\\cs-2019-063\\mbart50-2\\mbart50-env-1\\lib\\site-packages)\n",
      "WARNING: Ignoring invalid distribution -rotobuf (d:\\cs-2019-063\\mbart50-2\\mbart50-env-1\\lib\\site-packages)\n",
      "WARNING: Ignoring invalid distribution - (d:\\cs-2019-063\\mbart50-2\\mbart50-env-1\\lib\\site-packages)\n",
      "WARNING: Ignoring invalid distribution -rotobuf (d:\\cs-2019-063\\mbart50-2\\mbart50-env-1\\lib\\site-packages)\n",
      "WARNING: Ignoring invalid distribution - (d:\\cs-2019-063\\mbart50-2\\mbart50-env-1\\lib\\site-packages)\n",
      "WARNING: Ignoring invalid distribution -rotobuf (d:\\cs-2019-063\\mbart50-2\\mbart50-env-1\\lib\\site-packages)\n",
      "WARNING: Ignoring invalid distribution - (d:\\cs-2019-063\\mbart50-2\\mbart50-env-1\\lib\\site-packages)\n",
      "\n",
      "[notice] A new release of pip is available: 23.0.1 -> 25.1.1\n",
      "[notice] To update, run: python.exe -m pip install --upgrade pip\n"
     ]
    },
    {
     "name": "stdout",
     "output_type": "stream",
     "text": [
      "Note: you may need to restart the kernel to use updated packages.Requirement already satisfied: accelerate>=0.26.0 in d:\\cs-2019-063\\mbart50-2\\mbart50-env-1\\lib\\site-packages (1.8.1)\n",
      "Requirement already satisfied: packaging>=20.0 in d:\\cs-2019-063\\mbart50-2\\mbart50-env-1\\lib\\site-packages (from accelerate>=0.26.0) (25.0)\n",
      "Requirement already satisfied: pyyaml in d:\\cs-2019-063\\mbart50-2\\mbart50-env-1\\lib\\site-packages (from accelerate>=0.26.0) (6.0.2)\n",
      "Requirement already satisfied: numpy<3.0.0,>=1.17 in d:\\cs-2019-063\\mbart50-2\\mbart50-env-1\\lib\\site-packages (from accelerate>=0.26.0) (2.1.2)\n",
      "Requirement already satisfied: torch>=2.0.0 in d:\\cs-2019-063\\mbart50-2\\mbart50-env-1\\lib\\site-packages (from accelerate>=0.26.0) (2.7.1+cu118)\n",
      "Requirement already satisfied: psutil in d:\\cs-2019-063\\mbart50-2\\mbart50-env-1\\lib\\site-packages (from accelerate>=0.26.0) (7.0.0)\n",
      "Requirement already satisfied: huggingface_hub>=0.21.0 in d:\\cs-2019-063\\mbart50-2\\mbart50-env-1\\lib\\site-packages (from accelerate>=0.26.0) (0.33.2)\n",
      "Requirement already satisfied: safetensors>=0.4.3 in d:\\cs-2019-063\\mbart50-2\\mbart50-env-1\\lib\\site-packages (from accelerate>=0.26.0) (0.5.3)\n",
      "Requirement already satisfied: tqdm>=4.42.1 in d:\\cs-2019-063\\mbart50-2\\mbart50-env-1\\lib\\site-packages (from huggingface_hub>=0.21.0->accelerate>=0.26.0) (4.67.1)\n",
      "Requirement already satisfied: typing-extensions>=3.7.4.3 in d:\\cs-2019-063\\mbart50-2\\mbart50-env-1\\lib\\site-packages (from huggingface_hub>=0.21.0->accelerate>=0.26.0) (4.14.1)\n",
      "Requirement already satisfied: filelock in d:\\cs-2019-063\\mbart50-2\\mbart50-env-1\\lib\\site-packages (from huggingface_hub>=0.21.0->accelerate>=0.26.0) (3.13.1)\n",
      "Requirement already satisfied: requests in d:\\cs-2019-063\\mbart50-2\\mbart50-env-1\\lib\\site-packages (from huggingface_hub>=0.21.0->accelerate>=0.26.0) (2.32.4)\n",
      "Requirement already satisfied: fsspec>=2023.5.0 in d:\\cs-2019-063\\mbart50-2\\mbart50-env-1\\lib\\site-packages (from huggingface_hub>=0.21.0->accelerate>=0.26.0) (2024.6.1)\n",
      "Requirement already satisfied: jinja2 in d:\\cs-2019-063\\mbart50-2\\mbart50-env-1\\lib\\site-packages (from torch>=2.0.0->accelerate>=0.26.0) (3.1.3)\n",
      "Requirement already satisfied: networkx in d:\\cs-2019-063\\mbart50-2\\mbart50-env-1\\lib\\site-packages (from torch>=2.0.0->accelerate>=0.26.0) (3.3)\n",
      "Requirement already satisfied: sympy>=1.13.3 in d:\\cs-2019-063\\mbart50-2\\mbart50-env-1\\lib\\site-packages (from torch>=2.0.0->accelerate>=0.26.0) (1.13.3)\n",
      "Requirement already satisfied: mpmath<1.4,>=1.1.0 in d:\\cs-2019-063\\mbart50-2\\mbart50-env-1\\lib\\site-packages (from sympy>=1.13.3->torch>=2.0.0->accelerate>=0.26.0) (1.3.0)\n",
      "Requirement already satisfied: colorama in d:\\cs-2019-063\\mbart50-2\\mbart50-env-1\\lib\\site-packages (from tqdm>=4.42.1->huggingface_hub>=0.21.0->accelerate>=0.26.0) (0.4.6)\n",
      "Requirement already satisfied: MarkupSafe>=2.0 in d:\\cs-2019-063\\mbart50-2\\mbart50-env-1\\lib\\site-packages (from jinja2->torch>=2.0.0->accelerate>=0.26.0) (2.1.5)\n",
      "Requirement already satisfied: charset_normalizer<4,>=2 in d:\\cs-2019-063\\mbart50-2\\mbart50-env-1\\lib\\site-packages (from requests->huggingface_hub>=0.21.0->accelerate>=0.26.0) (3.4.2)\n",
      "Requirement already satisfied: urllib3<3,>=1.21.1 in d:\\cs-2019-063\\mbart50-2\\mbart50-env-1\\lib\\site-packages (from requests->huggingface_hub>=0.21.0->accelerate>=0.26.0) (2.5.0)\n",
      "Requirement already satisfied: certifi>=2017.4.17 in d:\\cs-2019-063\\mbart50-2\\mbart50-env-1\\lib\\site-packages (from requests->huggingface_hub>=0.21.0->accelerate>=0.26.0) (2025.6.15)\n",
      "Requirement already satisfied: idna<4,>=2.5 in d:\\cs-2019-063\\mbart50-2\\mbart50-env-1\\lib\\site-packages (from requests->huggingface_hub>=0.21.0->accelerate>=0.26.0) (3.10)\n",
      "\n"
     ]
    },
    {
     "name": "stderr",
     "output_type": "stream",
     "text": [
      "WARNING: Ignoring invalid distribution -rotobuf (d:\\cs-2019-063\\mbart50-2\\mbart50-env-1\\lib\\site-packages)\n",
      "WARNING: Ignoring invalid distribution - (d:\\cs-2019-063\\mbart50-2\\mbart50-env-1\\lib\\site-packages)\n",
      "WARNING: Ignoring invalid distribution -rotobuf (d:\\cs-2019-063\\mbart50-2\\mbart50-env-1\\lib\\site-packages)\n",
      "WARNING: Ignoring invalid distribution - (d:\\cs-2019-063\\mbart50-2\\mbart50-env-1\\lib\\site-packages)\n",
      "WARNING: Ignoring invalid distribution -rotobuf (d:\\cs-2019-063\\mbart50-2\\mbart50-env-1\\lib\\site-packages)\n",
      "WARNING: Ignoring invalid distribution - (d:\\cs-2019-063\\mbart50-2\\mbart50-env-1\\lib\\site-packages)\n",
      "WARNING: Ignoring invalid distribution -rotobuf (d:\\cs-2019-063\\mbart50-2\\mbart50-env-1\\lib\\site-packages)\n",
      "WARNING: Ignoring invalid distribution - (d:\\cs-2019-063\\mbart50-2\\mbart50-env-1\\lib\\site-packages)\n",
      "WARNING: Ignoring invalid distribution -rotobuf (d:\\cs-2019-063\\mbart50-2\\mbart50-env-1\\lib\\site-packages)\n",
      "WARNING: Ignoring invalid distribution - (d:\\cs-2019-063\\mbart50-2\\mbart50-env-1\\lib\\site-packages)\n",
      "WARNING: Ignoring invalid distribution -rotobuf (d:\\cs-2019-063\\mbart50-2\\mbart50-env-1\\lib\\site-packages)\n",
      "WARNING: Ignoring invalid distribution - (d:\\cs-2019-063\\mbart50-2\\mbart50-env-1\\lib\\site-packages)\n",
      "\n",
      "[notice] A new release of pip is available: 23.0.1 -> 25.1.1\n",
      "[notice] To update, run: python.exe -m pip install --upgrade pip\n"
     ]
    }
   ],
   "source": [
    "%pip install transformers[torch]\n",
    "%pip install --upgrade accelerate\n",
    "%pip install --upgrade \"accelerate>=0.26.0\""
   ]
  },
  {
   "cell_type": "code",
   "execution_count": null,
   "id": "6a06ef39",
   "metadata": {},
   "outputs": [],
   "source": []
  },
  {
   "cell_type": "code",
   "execution_count": 14,
   "id": "5556befe",
   "metadata": {},
   "outputs": [],
   "source": [
    "# from transformers import Seq2SeqTrainer, Seq2SeqTrainingArguments\n",
    "from transformers import Seq2SeqTrainer, Seq2SeqTrainingArguments, DataCollatorForSeq2Seq\n",
    "\n",
    "training_args = Seq2SeqTrainingArguments(\n",
    "    output_dir=\"./outputs_ta_si\",\n",
    "    eval_strategy=\"epoch\",\n",
    "    save_strategy = \"epoch\",\n",
    "    # save_strategy=\"steps\",       # save checkpoints every fixed number of steps\n",
    "\n",
    "    save_steps=3,              # save checkpoint every 500 training steps\n",
    "    save_total_limit=3,\n",
    "    load_best_model_at_end = True,\n",
    "    metric_for_best_model = \"bleu\",\n",
    "    greater_is_better=True,\n",
    "\n",
    "    logging_dir=\"./logs\",\n",
    "    logging_steps=5,\n",
    "\n",
    "    num_train_epochs=5,\n",
    "    learning_rate=5e-5,\n",
    "    warmup_steps=500,\n",
    "    lr_scheduler_type=\"linear\",  # inside Seq2SeqTrainingArguments\n",
    "    optim=\"adafactor\",\n",
    "\n",
    "    per_device_train_batch_size=16,\n",
    "    per_device_eval_batch_size=16,\n",
    "\n",
    "    predict_with_generate=True,\n",
    "    fp16=True,  # True if you have GPU\n",
    "    report_to=\"tensorboard\",\n",
    "    weight_decay=0.01,\n",
    "    overwrite_output_dir=True,\n",
    "    max_grad_norm=1.0,\n",
    "\n",
    ")\n"
   ]
  },
  {
   "cell_type": "code",
   "execution_count": 15,
   "id": "51801060",
   "metadata": {},
   "outputs": [
    {
     "name": "stderr",
     "output_type": "stream",
     "text": [
      "C:\\Users\\FCT\\AppData\\Local\\Temp\\ipykernel_14120\\993393931.py:7: FutureWarning: `tokenizer` is deprecated and will be removed in version 5.0.0 for `Seq2SeqTrainer.__init__`. Use `processing_class` instead.\n",
      "  trainer = Seq2SeqTrainer(\n"
     ]
    }
   ],
   "source": [
    "from transformers import MBartForConditionalGeneration, MBart50TokenizerFast, DataCollatorForSeq2Seq\n",
    "from transformers import EarlyStoppingCallback\n",
    "\n",
    "#  Data collator for padding and batching\n",
    "data_collator = DataCollatorForSeq2Seq(tokenizer, model=model)\n",
    "\n",
    "trainer = Seq2SeqTrainer(\n",
    "    model=model,\n",
    "    args=training_args,\n",
    "    train_dataset=tokenized_datasets[\"train\"],\n",
    "    eval_dataset=tokenized_datasets[\"validation\"],\n",
    "    tokenizer=tokenizer,\n",
    "    data_collator=data_collator,\n",
    "    compute_metrics=compute_metrics,\n",
    "    callbacks=[SavePerEpochCallback(tokenizer), EarlyStoppingCallback(early_stopping_patience=3)]\n",
    ")"
   ]
  },
  {
   "cell_type": "code",
   "execution_count": 16,
   "id": "9da06841",
   "metadata": {},
   "outputs": [
    {
     "name": "stderr",
     "output_type": "stream",
     "text": [
      "There were missing keys in the checkpoint model loaded: ['model.encoder.embed_tokens.weight', 'model.decoder.embed_tokens.weight', 'lm_head.weight'].\n"
     ]
    },
    {
     "data": {
      "text/html": [
       "\n",
       "    <div>\n",
       "      \n",
       "      <progress value='12665' max='12665' style='width:300px; height:20px; vertical-align: middle;'></progress>\n",
       "      [12665/12665 3:58:25, Epoch 5/5]\n",
       "    </div>\n",
       "    <table border=\"1\" class=\"dataframe\">\n",
       "  <thead>\n",
       " <tr style=\"text-align: left;\">\n",
       "      <th>Epoch</th>\n",
       "      <th>Training Loss</th>\n",
       "      <th>Validation Loss</th>\n",
       "      <th>Bleu</th>\n",
       "      <th>Rougel</th>\n",
       "      <th>Chrf</th>\n",
       "      <th>Exact Match</th>\n",
       "      <th>Token Accuracy</th>\n",
       "      <th>Bertscore F1</th>\n",
       "    </tr>\n",
       "  </thead>\n",
       "  <tbody>\n",
       "    <tr>\n",
       "      <td>4</td>\n",
       "      <td>0.715100</td>\n",
       "      <td>1.631874</td>\n",
       "      <td>16.166634</td>\n",
       "      <td>0.071522</td>\n",
       "      <td>48.649233</td>\n",
       "      <td>0.006909</td>\n",
       "      <td>0.207225</td>\n",
       "      <td>0.954206</td>\n",
       "    </tr>\n",
       "    <tr>\n",
       "      <td>5</td>\n",
       "      <td>0.565600</td>\n",
       "      <td>1.658258</td>\n",
       "      <td>16.502095</td>\n",
       "      <td>0.071200</td>\n",
       "      <td>49.112487</td>\n",
       "      <td>0.006711</td>\n",
       "      <td>0.207838</td>\n",
       "      <td>0.954456</td>\n",
       "    </tr>\n",
       "  </tbody>\n",
       "</table><p>"
      ],
      "text/plain": [
       "<IPython.core.display.HTML object>"
      ]
     },
     "metadata": {},
     "output_type": "display_data"
    },
    {
     "name": "stderr",
     "output_type": "stream",
     "text": [
      "d:\\CS-2019-063\\mbart50-2\\mbart50-env-1\\lib\\site-packages\\transformers\\modeling_utils.py:3685: UserWarning: Moving the following attributes in the config to the generation config: {'max_length': 200, 'early_stopping': True, 'num_beams': 5}. You are seeing this warning because you've set generation parameters in the model config, as opposed to in the generation config.\n",
      "  warnings.warn(\n",
      "That's 100 lines that end in a tokenized period ('.')\n",
      "It looks like you forgot to detokenize your test data, which may hurt your score.\n",
      "If you insist your data is detokenized, or don't care, you can suppress this message with the `force` parameter.\n",
      "WARNING:sacrebleu:That's 100 lines that end in a tokenized period ('.')\n",
      "WARNING:sacrebleu:It looks like you forgot to detokenize your test data, which may hurt your score.\n",
      "WARNING:sacrebleu:If you insist your data is detokenized, or don't care, you can suppress this message with the `force` parameter.\n",
      "There were missing keys in the checkpoint model loaded: ['model.encoder.embed_tokens.weight', 'model.decoder.embed_tokens.weight', 'lm_head.weight'].\n"
     ]
    },
    {
     "data": {
      "text/plain": [
       "TrainOutput(global_step=12665, training_loss=0.2703894367765825, metrics={'train_runtime': 14308.8644, 'train_samples_per_second': 14.162, 'train_steps_per_second': 0.885, 'total_flos': 1.8438304075677696e+16, 'train_loss': 0.2703894367765825, 'epoch': 5.0})"
      ]
     },
     "execution_count": 16,
     "metadata": {},
     "output_type": "execute_result"
    }
   ],
   "source": [
    "# trainer.train()\n",
    "trainer.train(resume_from_checkpoint=True)"
   ]
  },
  {
   "cell_type": "code",
   "execution_count": null,
   "id": "d600d1cf",
   "metadata": {},
   "outputs": [
    {
     "data": {
      "text/html": [
       "\n",
       "    <div>\n",
       "      \n",
       "      <progress value='8475' max='12665' style='width:300px; height:20px; vertical-align: middle;'></progress>\n",
       "      [ 8475/12665 5:48:02 < 2:52:06, 0.41 it/s, Epoch 3.35/5]\n",
       "    </div>\n",
       "    <table border=\"1\" class=\"dataframe\">\n",
       "  <thead>\n",
       " <tr style=\"text-align: left;\">\n",
       "      <th>Epoch</th>\n",
       "      <th>Training Loss</th>\n",
       "      <th>Validation Loss</th>\n",
       "      <th>Bleu</th>\n",
       "      <th>Rougel</th>\n",
       "      <th>Chrf</th>\n",
       "      <th>Exact Match</th>\n",
       "      <th>Token Accuracy</th>\n",
       "      <th>Bertscore F1</th>\n",
       "    </tr>\n",
       "  </thead>\n",
       "  <tbody>\n",
       "    <tr>\n",
       "      <td>1</td>\n",
       "      <td>1.936100</td>\n",
       "      <td>1.786041</td>\n",
       "      <td>12.592358</td>\n",
       "      <td>0.072396</td>\n",
       "      <td>45.049696</td>\n",
       "      <td>0.002961</td>\n",
       "      <td>0.179807</td>\n",
       "      <td>0.949158</td>\n",
       "    </tr>\n",
       "    <tr>\n",
       "      <td>2</td>\n",
       "      <td>1.413200</td>\n",
       "      <td>1.640147</td>\n",
       "      <td>14.858947</td>\n",
       "      <td>0.071391</td>\n",
       "      <td>47.434932</td>\n",
       "      <td>0.005724</td>\n",
       "      <td>0.198242</td>\n",
       "      <td>0.952828</td>\n",
       "    </tr>\n",
       "    <tr>\n",
       "      <td>3</td>\n",
       "      <td>1.066000</td>\n",
       "      <td>1.607249</td>\n",
       "      <td>15.577054</td>\n",
       "      <td>0.069051</td>\n",
       "      <td>48.295176</td>\n",
       "      <td>0.005823</td>\n",
       "      <td>0.201662</td>\n",
       "      <td>0.952808</td>\n",
       "    </tr>\n",
       "  </tbody>\n",
       "</table><p>"
      ],
      "text/plain": [
       "<IPython.core.display.HTML object>"
      ]
     },
     "metadata": {},
     "output_type": "display_data"
    },
    {
     "name": "stderr",
     "output_type": "stream",
     "text": [
      "d:\\CS-2019-063\\mbart50-2\\mbart50-env-1\\lib\\site-packages\\transformers\\modeling_utils.py:3685: UserWarning: Moving the following attributes in the config to the generation config: {'max_length': 200, 'early_stopping': True, 'num_beams': 5}. You are seeing this warning because you've set generation parameters in the model config, as opposed to in the generation config.\n",
      "  warnings.warn(\n",
      "That's 100 lines that end in a tokenized period ('.')\n",
      "It looks like you forgot to detokenize your test data, which may hurt your score.\n",
      "If you insist your data is detokenized, or don't care, you can suppress this message with the `force` parameter.\n",
      "WARNING:sacrebleu:That's 100 lines that end in a tokenized period ('.')\n",
      "WARNING:sacrebleu:It looks like you forgot to detokenize your test data, which may hurt your score.\n",
      "WARNING:sacrebleu:If you insist your data is detokenized, or don't care, you can suppress this message with the `force` parameter.\n",
      "WARNING:sacrebleu:That's 100 lines that end in a tokenized period ('.')\n",
      "WARNING:sacrebleu:It looks like you forgot to detokenize your test data, which may hurt your score.\n",
      "WARNING:sacrebleu:If you insist your data is detokenized, or don't care, you can suppress this message with the `force` parameter.\n"
     ]
    }
   ],
   "source": [
    "# trainer.train()\n",
    "# trainer.train(resume_from_checkpoint=True)"
   ]
  },
  {
   "cell_type": "code",
   "execution_count": null,
   "id": "bba2baca",
   "metadata": {},
   "outputs": [],
   "source": [
    "# trainer.train()"
   ]
  },
  {
   "cell_type": "code",
   "execution_count": null,
   "id": "6fc87ace",
   "metadata": {},
   "outputs": [],
   "source": [
    "# trainer.train(resume_from_checkpoint=\"2.results_ta_si/checkpoint-1191\")"
   ]
  },
  {
   "cell_type": "code",
   "execution_count": null,
   "id": "3892097b",
   "metadata": {},
   "outputs": [],
   "source": [
    "# Save final model\n",
    "trainer.save_model(\"./final_model_ta_si\")\n",
    "tokenizer.save_pretrained(\"./final_model_ta_si\")"
   ]
  }
 ],
 "metadata": {
  "kernelspec": {
   "display_name": "mbart50-env-1",
   "language": "python",
   "name": "python3"
  },
  "language_info": {
   "codemirror_mode": {
    "name": "ipython",
    "version": 3
   },
   "file_extension": ".py",
   "mimetype": "text/x-python",
   "name": "python",
   "nbconvert_exporter": "python",
   "pygments_lexer": "ipython3",
   "version": "3.10.11"
  }
 },
 "nbformat": 4,
 "nbformat_minor": 5
}
