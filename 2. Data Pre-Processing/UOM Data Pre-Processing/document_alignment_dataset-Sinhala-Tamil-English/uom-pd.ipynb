{
 "cells": [
  {
   "cell_type": "code",
   "execution_count": 1,
   "id": "8ed31b63",
   "metadata": {},
   "outputs": [
    {
     "name": "stdout",
     "output_type": "stream",
     "text": [
      "Done! Saved Tamil-Sinhala aligned sentences to 'army_sinhala_tamil_aligned.tsv'\n"
     ]
    }
   ],
   "source": [
    "import csv\n",
    "\n",
    "input_file = \"army/armynews_sinhala_tamil.txt\"  # Replace with your actual input filename\n",
    "output_file = \"army_sinhala_tamil_aligned.tsv\"\n",
    "\n",
    "with open(input_file, \"r\", encoding=\"utf-8\") as infile, \\\n",
    "     open(output_file, \"w\", encoding=\"utf-8\", newline='') as outfile:\n",
    "    \n",
    "    tsv_writer = csv.writer(outfile, delimiter='\\t')\n",
    "    \n",
    "    # Write header\n",
    "    tsv_writer.writerow([\"source\", \"target\"])\n",
    "    \n",
    "    for line in infile:\n",
    "        parts = line.strip().split(\"|\")\n",
    "        \n",
    "        # Make sure line has enough columns (at least 4)\n",
    "        if len(parts) >= 4:\n",
    "            sinhala_sentence = parts[1].strip()  # 2nd column (index 1)\n",
    "            tamil_sentence = parts[3].strip()    # 4th column (index 3)\n",
    "            \n",
    "            # Write Tamil as source, Sinhala as target\n",
    "            tsv_writer.writerow([tamil_sentence, sinhala_sentence])\n",
    "\n",
    "print(f\"Done! Saved Tamil-Sinhala aligned sentences to '{output_file}'\")\n"
   ]
  },
  {
   "cell_type": "code",
   "execution_count": 2,
   "id": "f0e33536",
   "metadata": {},
   "outputs": [
    {
     "name": "stdout",
     "output_type": "stream",
     "text": [
      "Done! Saved Tamil-Sinhala aligned sentences to 'hiru_sinhala_tamil_aligned.tsv'\n"
     ]
    }
   ],
   "source": [
    "import csv\n",
    "\n",
    "input_file = \"hiru/hiru_sinhala_tamil.txt\"  # Replace with your actual input filename\n",
    "output_file = \"hiru_sinhala_tamil_aligned.tsv\"\n",
    "\n",
    "with open(input_file, \"r\", encoding=\"utf-8\") as infile, \\\n",
    "     open(output_file, \"w\", encoding=\"utf-8\", newline='') as outfile:\n",
    "    \n",
    "    tsv_writer = csv.writer(outfile, delimiter='\\t')\n",
    "    \n",
    "    # Write header\n",
    "    tsv_writer.writerow([\"source\", \"target\"])\n",
    "    \n",
    "    for line in infile:\n",
    "        parts = line.strip().split(\"|\")\n",
    "        \n",
    "        # Make sure line has enough columns (at least 4)\n",
    "        if len(parts) >= 4:\n",
    "            sinhala_sentence = parts[1].strip()  # 2nd column (index 1)\n",
    "            tamil_sentence = parts[3].strip()    # 4th column (index 3)\n",
    "            \n",
    "            # Write Tamil as source, Sinhala as target\n",
    "            tsv_writer.writerow([tamil_sentence, sinhala_sentence])\n",
    "\n",
    "print(f\"Done! Saved Tamil-Sinhala aligned sentences to '{output_file}'\")\n"
   ]
  },
  {
   "cell_type": "code",
   "execution_count": 4,
   "id": "d1af168a",
   "metadata": {},
   "outputs": [
    {
     "name": "stdout",
     "output_type": "stream",
     "text": [
      "Done! Saved Tamil-Sinhala aligned sentences to 'itn_sinhala_tamil_aligned.tsv'\n"
     ]
    }
   ],
   "source": [
    "import csv\n",
    "\n",
    "input_file = \"itn/itn_sinhala_tamil_alignment_v2.txt\"  # Replace with your actual input filename\n",
    "output_file = \"itn_sinhala_tamil_aligned.tsv\"\n",
    "\n",
    "with open(input_file, \"r\", encoding=\"utf-8\") as infile, \\\n",
    "     open(output_file, \"w\", encoding=\"utf-8\", newline='') as outfile:\n",
    "    \n",
    "    tsv_writer = csv.writer(outfile, delimiter='\\t')\n",
    "    \n",
    "    # Write header\n",
    "    tsv_writer.writerow([\"source\", \"target\"])\n",
    "    \n",
    "    for line in infile:\n",
    "        parts = line.strip().split(\"|\")\n",
    "        \n",
    "        # Make sure line has enough columns (at least 4)\n",
    "        if len(parts) >= 4:\n",
    "            sinhala_sentence = parts[1].strip()  # 2nd column (index 1)\n",
    "            tamil_sentence = parts[3].strip()    # 4th column (index 3)\n",
    "            \n",
    "            # Write Tamil as source, Sinhala as target\n",
    "            tsv_writer.writerow([tamil_sentence, sinhala_sentence])\n",
    "\n",
    "print(f\"Done! Saved Tamil-Sinhala aligned sentences to '{output_file}'\")\n"
   ]
  },
  {
   "cell_type": "code",
   "execution_count": 5,
   "id": "eebbbbf3",
   "metadata": {},
   "outputs": [
    {
     "name": "stdout",
     "output_type": "stream",
     "text": [
      "Done! Saved Tamil-Sinhala aligned sentences to 'newsfirst_sinhala_tamil_aligned.tsv'\n"
     ]
    }
   ],
   "source": [
    "import csv\n",
    "\n",
    "input_file = \"newsfirst/newsfirst_sinhala_tamil_v2.txt\"  # Replace with your actual input filename\n",
    "output_file = \"newsfirst_sinhala_tamil_aligned.tsv\"\n",
    "\n",
    "with open(input_file, \"r\", encoding=\"utf-8\") as infile, \\\n",
    "     open(output_file, \"w\", encoding=\"utf-8\", newline='') as outfile:\n",
    "    \n",
    "    tsv_writer = csv.writer(outfile, delimiter='\\t')\n",
    "    \n",
    "    # Write header\n",
    "    tsv_writer.writerow([\"source\", \"target\"])\n",
    "    \n",
    "    for line in infile:\n",
    "        parts = line.strip().split(\"|\")\n",
    "        \n",
    "        # Make sure line has enough columns (at least 4)\n",
    "        if len(parts) >= 4:\n",
    "            sinhala_sentence = parts[1].strip()  # 2nd column (index 1)\n",
    "            tamil_sentence = parts[3].strip()    # 4th column (index 3)\n",
    "            \n",
    "            # Write Tamil as source, Sinhala as target\n",
    "            tsv_writer.writerow([tamil_sentence, sinhala_sentence])\n",
    "\n",
    "print(f\"Done! Saved Tamil-Sinhala aligned sentences to '{output_file}'\")\n"
   ]
  },
  {
   "cell_type": "markdown",
   "id": "3677a11d",
   "metadata": {},
   "source": [
    "newsfirst_sinhala_tamil_aligned.tsv, itn_sinhala_tamil_aligned.tsv, hiru_sinhala_tamil_aligned.tsv, army_sinhala_tamil_aligned.tsv"
   ]
  },
  {
   "cell_type": "markdown",
   "id": "2e8ef5e5",
   "metadata": {},
   "source": []
  },
  {
   "cell_type": "code",
   "execution_count": 6,
   "id": "8ed22253",
   "metadata": {},
   "outputs": [
    {
     "name": "stdout",
     "output_type": "stream",
     "text": [
      "Done! Combined and shuffled file saved as 'combined_shuffled_sinhala_tamil.tsv'\n"
     ]
    }
   ],
   "source": [
    "import csv\n",
    "import random\n",
    "\n",
    "input_files = [\n",
    "    \"newsfirst_sinhala_tamil_aligned.tsv\",\n",
    "    \"itn_sinhala_tamil_aligned.tsv\",\n",
    "    \"hiru_sinhala_tamil_aligned.tsv\",\n",
    "    \"army_sinhala_tamil_aligned.tsv\"\n",
    "]\n",
    "\n",
    "output_file = \"combined_shuffled_sinhala_tamil.tsv\"\n",
    "\n",
    "all_rows = []\n",
    "\n",
    "# Read all input files and collect rows (skip header)\n",
    "for filename in input_files:\n",
    "    with open(filename, \"r\", encoding=\"utf-8\") as f:\n",
    "        reader = csv.reader(f, delimiter='\\t')\n",
    "        next(reader)  # Skip header\n",
    "        for row in reader:\n",
    "            if len(row) >= 2:\n",
    "                all_rows.append(row)\n",
    "\n",
    "# Shuffle all rows randomly\n",
    "random.shuffle(all_rows)\n",
    "\n",
    "# Write combined and shuffled rows to output file with header\n",
    "with open(output_file, \"w\", encoding=\"utf-8\", newline='') as f:\n",
    "    writer = csv.writer(f, delimiter='\\t')\n",
    "    # Write header\n",
    "    writer.writerow([\"source\", \"target\"])\n",
    "    # Write shuffled rows\n",
    "    writer.writerows(all_rows)\n",
    "\n",
    "print(f\"Done! Combined and shuffled file saved as '{output_file}'\")\n"
   ]
  }
 ],
 "metadata": {
  "kernelspec": {
   "display_name": "base",
   "language": "python",
   "name": "python3"
  },
  "language_info": {
   "codemirror_mode": {
    "name": "ipython",
    "version": 3
   },
   "file_extension": ".py",
   "mimetype": "text/x-python",
   "name": "python",
   "nbconvert_exporter": "python",
   "pygments_lexer": "ipython3",
   "version": "3.12.7"
  }
 },
 "nbformat": 4,
 "nbformat_minor": 5
}
