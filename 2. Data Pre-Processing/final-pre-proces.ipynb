{
 "cells": [
  {
   "cell_type": "code",
   "execution_count": 1,
   "id": "bfeea396",
   "metadata": {},
   "outputs": [
    {
     "name": "stdout",
     "output_type": "stream",
     "text": [
      "Done! Combined and shuffled file saved as 'final_combined_shuffled_sinhala_tamil.tsv'\n"
     ]
    }
   ],
   "source": [
    "import csv\n",
    "import random\n",
    "\n",
    "input_files = [\n",
    "    \"UCSC Data/parallel_corpus_second_stage.tsv\",\n",
    "    \"UOM Data/uom_parallel_corpus_second_stage.tsv\"\n",
    "]\n",
    "\n",
    "output_file = \"final_combined_shuffled_sinhala_tamil.tsv\"\n",
    "\n",
    "all_rows = []\n",
    "\n",
    "# Read all input files and collect rows (skip header)\n",
    "for filename in input_files:\n",
    "    with open(filename, \"r\", encoding=\"utf-8\") as f:\n",
    "        reader = csv.reader(f, delimiter='\\t')\n",
    "        next(reader)  # Skip header\n",
    "        for row in reader:\n",
    "            if len(row) >= 2:\n",
    "                all_rows.append(row)\n",
    "\n",
    "# Shuffle all rows randomly\n",
    "random.shuffle(all_rows)\n",
    "\n",
    "# Write combined and shuffled rows to output file with header\n",
    "with open(output_file, \"w\", encoding=\"utf-8\", newline='') as f:\n",
    "    writer = csv.writer(f, delimiter='\\t')\n",
    "    # Write header\n",
    "    writer.writerow([\"source\", \"target\"])\n",
    "    # Write shuffled rows\n",
    "    writer.writerows(all_rows)\n",
    "\n",
    "print(f\"Done! Combined and shuffled file saved as '{output_file}'\")\n"
   ]
  },
  {
   "cell_type": "code",
   "execution_count": 2,
   "id": "cdb56ed4",
   "metadata": {},
   "outputs": [
    {
     "name": "stdout",
     "output_type": "stream",
     "text": [
      "🔍 Total lines checked (excluding header): 52779\n",
      "⚠️ Missing source (Tamil) sentences: 0\n",
      "⚠️ Missing target (Sinhala) sentences: 0\n"
     ]
    }
   ],
   "source": [
    "# File path\n",
    "input_file = 'final_combined_shuffled_sinhala_tamil.tsv'\n",
    "\n",
    "# Counters\n",
    "missing_source = 0\n",
    "missing_target = 0\n",
    "total_lines = 0\n",
    "\n",
    "# Read file and skip header\n",
    "with open(input_file, 'r', encoding='utf-8') as f:\n",
    "    lines = f.readlines()[1:]  # Skip header\n",
    "\n",
    "    for line in lines:\n",
    "        total_lines += 1\n",
    "        parts = line.strip().split('\\t')\n",
    "        if len(parts) != 2:\n",
    "            continue  # Skip malformed rows\n",
    "\n",
    "        source, target = parts\n",
    "        if not source.strip():\n",
    "            missing_source += 1\n",
    "        if not target.strip():\n",
    "            missing_target += 1\n",
    "\n",
    "# Summary\n",
    "print(f\"🔍 Total lines checked (excluding header): {total_lines}\")\n",
    "print(f\"⚠️ Missing source (Tamil) sentences: {missing_source}\")\n",
    "print(f\"⚠️ Missing target (Sinhala) sentences: {missing_target}\")\n"
   ]
  },
  {
   "cell_type": "code",
   "execution_count": 3,
   "id": "ad9fd890",
   "metadata": {},
   "outputs": [
    {
     "name": "stdout",
     "output_type": "stream",
     "text": [
      "📊 Total lines checked (excluding header): 52779\n",
      "🔁 Duplicate sentence pairs: 23\n",
      "✅ Unique sentence pairs: 52756\n"
     ]
    }
   ],
   "source": [
    "# File path\n",
    "input_file = 'final_combined_shuffled_sinhala_tamil.tsv'\n",
    "\n",
    "# Set to store unique sentence pairs\n",
    "unique_pairs = set()\n",
    "duplicate_count = 0\n",
    "total_lines = 0\n",
    "\n",
    "# Read file and skip header\n",
    "with open(input_file, 'r', encoding='utf-8') as f:\n",
    "    lines = f.readlines()[1:]  # Skip header\n",
    "\n",
    "    for line in lines:\n",
    "        total_lines += 1\n",
    "        line = line.strip()\n",
    "        if line in unique_pairs:\n",
    "            duplicate_count += 1\n",
    "        else:\n",
    "            unique_pairs.add(line)\n",
    "\n",
    "# Summary\n",
    "print(f\"📊 Total lines checked (excluding header): {total_lines}\")\n",
    "print(f\"🔁 Duplicate sentence pairs: {duplicate_count}\")\n",
    "print(f\"✅ Unique sentence pairs: {len(unique_pairs)}\")\n"
   ]
  },
  {
   "cell_type": "code",
   "execution_count": 5,
   "id": "61551380",
   "metadata": {},
   "outputs": [
    {
     "name": "stdout",
     "output_type": "stream",
     "text": [
      "🔁 Duplicate Sentence Pairs with Row Numbers:\n",
      "Rows [1565, 7560] → அரசாங்க பாடசாலைகளையும், பல்கலைக் கழகங்களையும் விடுமுறை நாட்களில் கற்கை அலகுகளுக்காகப் பெற்றுக்கொடுத்தல்,\tරජයේ පාසල් හා විශ්වවිද්යාල නිවාඩු දිනවලදී එම මධ්යස්ථාන අධ්යාපන ඒකක සඳහා ලබාදීම,\n",
      "Rows [4368, 7617] → தெங்குக் கமத்தொழில், தெங்கு சார் வளங்கள் ஆகியவற்றின் அபிவிருத்தியையும் மேம்பாட்டையும் ஒழுங்கமைத்தல்,\tපොල් කර්මාන්තයෙහි සහ පොල් සම්පත්වල සංවර්ධනය හා ප්රවර්ධනය විධිමත් කිරීම,\n",
      "Rows [12315, 18631] → இலஞ்சம் அல்லது ஊழல் பற்றிய சார்த்துதல்களை புலனாய்வு செய்வதற்கான ஆணைக்குழுச் சட்டத்தின் கீழ் தீர்மானம்,\tඅල්ලස් හෝ දූෂණ චෝදනා විමර්ශන කොමිෂන් සභා පනත යටතේ තීරණය,\n",
      "Rows [11696, 21024] → நெற்பயிர்ச் செய்கை மேற்கொள்ளமுடியாதுள்ள வயற்காணிகளை பயனுள்ள நடவடிக்கைகளுக்குப் பயன்படுத்துதல்,\tවී වගා කළ නොහැකි කුඹුරු ඉඩම් ඵලදායි කටයුතු සඳහා යොදා ගැනීම,\n",
      "Rows [18068, 22454] → மாகாண சபை மற்றும் உள்ளூராட்சி நிறுவனங்களின் மக்களின் பிரதிநிதிகளின் பதவிக் காலத்துக்குப் பின்னரும், சமாதான நீதவான் பதவியினை வழங்குதல்,\tපළාත් සභා සහ පළාත් පාලන ආයතනවල මහජන නියෝජිතයිනගේ නිල කාලයට පසුද සාමවිනිසුරු පදවිය ලබාදීම,\n",
      "Rows [8750, 22771] → வெற்றிடமாகின்ற கிராம உத்தியோகத்தர் பதவிகளில் பதிற் கடமை புரியும் நியமனங்களுக்காக வினைத்திறன்மிக்க வேலைத்திட்டமொன்றைத் தயரரித்தல்,\tපුරප්පාඩු වන ග්රාම නිලධාරී තනතුරු වල වැඩ බැලීමේ පත්වීම් සඳහා කාර්යක්ෂම වැඩ පිළිවෙළක් සකස් කිරීම,\n",
      "Rows [6934, 23007] → உயர் பிரமுகர்களின் பாதுகாவலர்கள் அனைவருக்கும்  பிரயாணச் செலவுக் கொடுப்பனவொன்றை வழங்குதல்,\tසියලුම ප්රභූ ආරක්ෂකයින් සඳහා ගමන් වියදම් දීමනාවක් ලබා දීම,\n",
      "Rows [1555, 23580] → வெளிநாட்டு வேலைவாய்ப்புக்களில் ஈடுபட்டுள்ளோருக்கு ஓய்வூதிய முறையொன்றை அறிமுகப்படுத்துதல்,\tවිදේශ රැකියාවල නියුතු අය සඳහා විශ්රාම වැටුප් ක්රමයක් ලබාදීම,\n",
      "Rows [15797, 26768] → கட்டாக்காலியாக திரிகின்ற நாய்களின் மூலம் மனித உயிர்களுக்கு ஏற்படுகின்ற சேதத்தை தடுப்பதற்காக முறையியலொன்றைத் தயரரித்தல்,\tඅයාලේ යන සුනඛයින්ගෙන් මිනිස් ජීවිතවලට සිදුවන හානිය වළක්වා ගැනීම සඳහා ක්රමවේදයක් සැකසීම,\n",
      "Rows [17488, 27763] → உள்ளுராட்சி நிறுவனங்களின் அனைத்து மக்கள் பிரதிநிதிகளினதும் கொடுப்பனவுகள் மற்றும் சிறப்புரிமைகளை மீளாய்வு செய்தல்,\tපළාත් පාලන ආයතන වල සියලුම මහජන නියෝජිතයින්ගේ දීමනා හා වරප්රසාද පිළිබඳ නැවත සලකා බැලීම,\n",
      "Rows [26459, 28270] → ஊழியர் சேமலாப நிதியம் மற்றும் ஊழியர் நம்பிக்கைப் பொறுப்பு நிதியம் ஆகிய நிதியங்களிலிருந்து பணம் உடனடியாக செலுத்துதல்,\tසේවක අර්ථසාධක අරමුදලින් සහ සේවක භාරකාර අරමුදලින් කඩිනමින් මුදල් ගෙවීම,\n",
      "Rows [25270, 28345] → தேர்தல் நடைமுறைகள் மற்றும் தேர்தல்களை நடாத்துதல் பற்றிய பாராளுமன்றத் தெரி குழுவொன்றை நியமித்தல்,\tමැතිවරණ ක්රියාවලිය සහ මැතිවරණ පැවැත්වීම පිළිබඳව පාර්ලිමේන්තු විශේෂ කාරක සභාවක් පත් කිරීම,\n",
      "Rows [3348, 29438] → பல்கலைக்கழகங்களால் நடாத்தப்படுகின்ற கற்கை நெறிகளை தொழில்மையக் கற்கைநெறிகளாக ஆக்குதல்,\tවිශ්වවිද්යාල මගින් පවත්වාගෙන යන පාඨමාලාවන් රැකියාභිමුඛ පාඨමාලාවන් බවට පත්කිරීම,\n",
      "Rows [24631, 33443] → சுகாதாரம் மற்றும் போஷாக்கு வழிகாட்டி தத்துவத்தின் அத்தியாயம் 5 சுகாதாரம் மற்றும் போஷாக்குடன் தொடர்புபடுகிறது .\tසෞඛ්ය හා පෝෂණ මාර්ගෝපදේශනයේ 5වන පරිච්ඡේදයේ සෞඛ්ය සහ පෝෂණය සම්බන්ධයෙන් දක්වා ඇත\n",
      "Rows [25937, 37247] → காலி கோட்டை மற்றும் அதனை அண்டியுள்ள வரலாற்று ரீதியான மற்றும் தொல்பொருள் மரபுரிமைகளைப் பாதுகாத்தல், மேம்படுத்தல் மற்றும் உரிய பயனைப் பெறுவதற்கு நடவடிக்கை எடுத்தல்,\tගාලු කොටුව හා ඒ ආශ්රිත ඓතිහාසික හා පුරා විද්යාත්මක උරුමයන් ආරක්ෂා කිරීම, ප්රවර්ධනය කිරීම හා නිසි ප්රයෝජන ලබා ගැනීමට කටයුතු කිරීම,\n",
      "Rows [36156, 37499] → பேரிச்சம் பழச் செய்கையை அறிமுகப் படுத்துவற்குரிய வாய்ப்புகள் பற்றி விரிவான ஆய்வுகள் மேற்கொள்ளப்படுதல்,\tරට ඉඳි වගාව හඳුන්වාදීමේ හැකියාව විමසා බැලීම සඳහා පුළුල් අධ්යයනයක් සිදු කිරීම,\n",
      "Rows [25355, 38063] → கோதுமை மாவிற்குப் பதிலாக அரிசி மாவை மக்கள் மத்தியில் பிரபல்யப்படுத்துவதற்காக புதிய தொழில் நுட்பத்தை அறிமுகப்படுத்துதல்,\tතිරිඟු පිටි වෙනුවට සහල් පිටි ජනතාව අතර ජනප්රිය කරවීම සඳහා නව තාක්ෂණය හඳුන්වා දීම,\n",
      "Rows [12922, 40364] → கூட்டுறவு, உள்நாட்டு வர்த்தக அமைச்ரைக் கேட்பதற்கு,\tසමූපකාර හා අභ්යන්තර වෙළඳ අමාත්යතුමාගෙන් ඇසීමට,\n",
      "Rows [16105, 42791] → ஜனாதிபதிக்கு உங்கள் மூவரை பற்றி பெரும் நம்பிக்கை இருக்கிறது  ஜனாதிபதி செயலாளர் அனுரவிற்கு சொன்னார் .\t ජනාධිපතිතුමාට ඔබතුමන්ලා තුන්දෙනා ගැන ලොකු විශ්වාසයක් තියෙනවා  ජනාධිපති ලේකම්වරයා අනුරට කීවේය .\n",
      "Rows [11279, 43329] → வெளிநாட்டில் வேலை செய்பவர்களின் பிரச்சினைகளுக்குத் தீர்வு காணுதல் தொடர்பில் சட்ட அதிகாரங்களைக் கொண்டதோர் அலகை ஏற்படுத்தல்,\tවිදේශ රැකියා නියුක්තිකයන්ගේ ගැටලු නිරාකරණය කිරීම සඳහා නීතිමය බලතල සහිත ඒකකයක් පිහිටුවීම,\n",
      "Rows [18164, 46026] → புதிய கண்டுபிடிப்பாளர்களை உலகிற்கு அறிமுகப்படுத்து முகமாக தேசிய திட்டமொன்றினை உருவாக்குதல்,\tනව නිපැයුම්කරුවන් ලෝකයට හඳුන්වා දීම සඳහා ජාතික වැඩ පිළිවෙළක් සකස් කිරීම,\n",
      "Rows [39379, 50827] → அரசாங்க வங்கிகளின் வட்டி செலுத்துதலுக்கும் வட்டி அறவிடலுக்கும் இடையே காணப்படுகின்ற வித்தியாசத்தைக் குறைத்தல்,\tරාජ්ය බැංකුවල පොලී ගෙවීම සහ පොලී අයකිරීම අතර පවතින පරතරය අඩු කිරීම,\n",
      "Rows [32837, 52536] → வெளிநாட்டுவேலைவாய்ப்பு ஊக்குவிப்பு, நலனோம்புகை அமைச்சரைக் கேட்பதற்கு,\tවිදේශ රැකියා ප්රවර්ධන හා සුබසාධන අමාත්යතුමාගෙන් ඇසීමට,\n",
      "\n",
      "✅ Total duplicate sentence pairs: 23\n",
      "📁 Duplicates saved to: final_duplicates.tsv\n",
      "📁 without_duplicates data saved to: final_parallel_corpus_without_duplicates.tsv\n"
     ]
    }
   ],
   "source": [
    "# Input and output files\n",
    "input_file = 'final_combined_shuffled_sinhala_tamil.tsv'\n",
    "duplicates_file = 'final_duplicates.tsv'\n",
    "without_duplicates_file = 'final_parallel_corpus_without_duplicates.tsv'\n",
    "\n",
    "# Dictionaries to track data\n",
    "line_to_rows = {}     # line -> list of row numbers\n",
    "duplicates = []\n",
    "without_duplicates = []\n",
    "seen_once = set()\n",
    "\n",
    "# Read file\n",
    "with open(input_file, 'r', encoding='utf-8') as f:\n",
    "    lines = f.readlines()\n",
    "\n",
    "header = lines[0].strip()\n",
    "data_lines = lines[1:]\n",
    "\n",
    "# Track line numbers (starting from 2 because line 1 is header)\n",
    "for idx, line in enumerate(data_lines, start=2):\n",
    "    line = line.strip()\n",
    "    if line not in line_to_rows:\n",
    "        line_to_rows[line] = [idx]\n",
    "        without_duplicates.append(line)\n",
    "    else:\n",
    "        line_to_rows[line].append(idx)\n",
    "        if line not in seen_once:\n",
    "            duplicates.append(line)\n",
    "            seen_once.add(line)\n",
    "\n",
    "# ✅ Print duplicates with row numbers\n",
    "print(\"🔁 Duplicate Sentence Pairs with Row Numbers:\")\n",
    "for dup in duplicates:\n",
    "    rows = line_to_rows[dup]\n",
    "    print(f\"Rows {rows} → {dup}\")\n",
    "\n",
    "# 💾 Save duplicates for reference\n",
    "with open(duplicates_file, 'w', encoding='utf-8') as df:\n",
    "    df.write(\"row_numbers\\tsource\\ttarget\\n\")\n",
    "    for dup in duplicates:\n",
    "        source, target = dup.split('\\t')\n",
    "        row_numbers = ','.join(map(str, line_to_rows[dup]))\n",
    "        df.write(f\"{row_numbers}\\t{source}\\t{target}\\n\")\n",
    "\n",
    "# 💾 Save without_duplicates data (only first occurrence)\n",
    "with open(without_duplicates_file, 'w', encoding='utf-8') as cf:\n",
    "    cf.write(header + '\\n')\n",
    "    for line in without_duplicates:\n",
    "        cf.write(line + '\\n')\n",
    "\n",
    "# ✅ Summary\n",
    "print(f\"\\n✅ Total duplicate sentence pairs: {len(duplicates)}\")\n",
    "print(f\"📁 Duplicates saved to: {duplicates_file}\")\n",
    "print(f\"📁 without_duplicates data saved to: {without_duplicates_file}\")\n"
   ]
  },
  {
   "cell_type": "code",
   "execution_count": 6,
   "id": "6a1ea05d",
   "metadata": {},
   "outputs": [
    {
     "name": "stdout",
     "output_type": "stream",
     "text": [
      "Rows with unwanted chars in source: 7375\n",
      "Rows with unwanted chars in target: 8902\n",
      "Unwanted characters and counts saved to 'final_unwanted_chars_source.tsv' and 'final_unwanted_chars_target.tsv'\n"
     ]
    }
   ],
   "source": [
    "import pandas as pd\n",
    "import re\n",
    "from collections import Counter\n",
    "from itertools import chain\n",
    "\n",
    "# Your input file path\n",
    "input_file = 'final_parallel_corpus_without_duplicates.tsv'\n",
    "\n",
    "# Load parallel corpus\n",
    "df = pd.read_csv(input_file, delimiter='\\t', names=['source', 'target'], encoding='utf-8', on_bad_lines='skip')\n",
    "\n",
    "# Regex pattern: allow Tamil \\u0B80-\\u0BFF, Sinhala \\u0D80-\\u0DFF, whitespace, and basic punctuation (.,!?) only\n",
    "pattern = r'[^\\u0B80-\\u0BFF\\u0D80-\\u0DFF\\s.,!?]'\n",
    "\n",
    "# Function to detect if text contains unwanted characters\n",
    "def has_unwanted_char(text):\n",
    "    return bool(re.search(pattern, str(text)))\n",
    "\n",
    "# Function to extract unwanted characters from text\n",
    "def extract_unwanted_chars(text):\n",
    "    return re.findall(pattern, str(text))\n",
    "\n",
    "# Find rows with unwanted characters\n",
    "source_unwanted_mask = df['source'].apply(has_unwanted_char)\n",
    "target_unwanted_mask = df['target'].apply(has_unwanted_char)\n",
    "\n",
    "print(\"Rows with unwanted chars in source:\", source_unwanted_mask.sum())\n",
    "print(\"Rows with unwanted chars in target:\", target_unwanted_mask.sum())\n",
    "\n",
    "# Extract unwanted characters from those rows\n",
    "source_unwanted_chars = df.loc[source_unwanted_mask, 'source'].apply(extract_unwanted_chars)\n",
    "target_unwanted_chars = df.loc[target_unwanted_mask, 'target'].apply(extract_unwanted_chars)\n",
    "\n",
    "# Flatten lists and count frequency\n",
    "source_counts = Counter(chain.from_iterable(source_unwanted_chars))\n",
    "target_counts = Counter(chain.from_iterable(target_unwanted_chars))\n",
    "\n",
    "# Convert to DataFrame and sort descending by count\n",
    "source_df = pd.DataFrame(source_counts.items(), columns=['character', 'count']).sort_values(by='count', ascending=False)\n",
    "target_df = pd.DataFrame(target_counts.items(), columns=['character', 'count']).sort_values(by='count', ascending=False)\n",
    "\n",
    "# Save to TSV for review\n",
    "source_df.to_csv('unwanted charactes/final_unwanted_chars_source.tsv', sep='\\t', index=False, encoding='utf-8')\n",
    "target_df.to_csv('unwanted charactes/final_unwanted_chars_target.tsv', sep='\\t', index=False, encoding='utf-8')\n",
    "\n",
    "print(\"Unwanted characters and counts saved to 'final_unwanted_chars_source.tsv' and 'final_unwanted_chars_target.tsv'\")\n"
   ]
  },
  {
   "cell_type": "code",
   "execution_count": 8,
   "id": "eb9fa983",
   "metadata": {},
   "outputs": [
    {
     "name": "stdout",
     "output_type": "stream",
     "text": [
      "Combined unwanted characters saved to 'unwanted charactes/final_unwanted_characters_combined.tsv'\n"
     ]
    }
   ],
   "source": [
    "import pandas as pd\n",
    "import re\n",
    "from collections import Counter\n",
    "from itertools import chain\n",
    "\n",
    "input_file = 'final_parallel_corpus_without_duplicates.tsv'\n",
    "\n",
    "# Load file with skipping bad lines\n",
    "df = pd.read_csv(input_file, delimiter='\\t', names=['source', 'target'], encoding='utf-8', on_bad_lines='skip')\n",
    "\n",
    "# Regex to match unwanted characters (not Tamil, Sinhala, space or basic punctuation)\n",
    "pattern = r'[^\\u0B80-\\u0BFF\\u0D80-\\u0DFF\\s.,!?]'\n",
    "\n",
    "def has_unwanted_char(text):\n",
    "    return bool(re.search(pattern, str(text)))\n",
    "\n",
    "def extract_unwanted_chars(text):\n",
    "    return re.findall(pattern, str(text))\n",
    "\n",
    "# Filter rows with unwanted characters in source and target\n",
    "source_unwanted_chars = df.loc[df['source'].apply(has_unwanted_char), 'source'].apply(extract_unwanted_chars)\n",
    "target_unwanted_chars = df.loc[df['target'].apply(has_unwanted_char), 'target'].apply(extract_unwanted_chars)\n",
    "\n",
    "# Combine all unwanted chars from both columns into one list\n",
    "all_unwanted_chars = list(chain.from_iterable(source_unwanted_chars)) + list(chain.from_iterable(target_unwanted_chars))\n",
    "\n",
    "# Count frequency of all unwanted characters combined\n",
    "combined_counts = Counter(all_unwanted_chars)\n",
    "\n",
    "# Convert to DataFrame\n",
    "combined_df = pd.DataFrame(combined_counts.items(), columns=['character', 'count']).sort_values(by='count', ascending=False)\n",
    "\n",
    "# Save to single TSV file\n",
    "combined_df.to_csv('unwanted charactes/final_unwanted_characters_combined.tsv', sep='\\t', index=False, encoding='utf-8')\n",
    "\n",
    "print(\"Combined unwanted characters saved to 'unwanted charactes/final_unwanted_characters_combined.tsv'\")\n"
   ]
  },
  {
   "cell_type": "code",
   "execution_count": 9,
   "id": "586b565a",
   "metadata": {},
   "outputs": [
    {
     "name": "stdout",
     "output_type": "stream",
     "text": [
      "Removed ''\\u200d'' from both columns and saved to 'final_parallel_corpus_second_stage.tsv'\n"
     ]
    }
   ],
   "source": [
    "import pandas as pd\n",
    "\n",
    "input_file = 'final_parallel_corpus_without_duplicates.tsv'\n",
    "output_file = 'final_parallel_corpus_second_stage.tsv'\n",
    "\n",
    "# Load file and use the first row as header\n",
    "df = pd.read_csv(input_file, delimiter='\\t', encoding='utf-8', on_bad_lines='skip', header=0)\n",
    "\n",
    "# Character to remove - the ZERO WIDTH JOINER (Unicode U+200D)\n",
    "char_to_remove = '\\u200d'\n",
    "\n",
    "# Remove the character from both columns\n",
    "df['source'] = df['source'].str.replace(char_to_remove, '', regex=False)\n",
    "df['target'] = df['target'].str.replace(char_to_remove, '', regex=False)\n",
    "\n",
    "# Save cleaned dataframe with header\n",
    "df.to_csv(output_file, sep='\\t', index=False, encoding='utf-8')\n",
    "\n",
    "print(f\"Removed '{repr(char_to_remove)}' from both columns and saved to '{output_file}'\")\n"
   ]
  },
  {
   "cell_type": "markdown",
   "id": "d7ecaf6e",
   "metadata": {},
   "source": [
    "# Manuvaly Removed other Unwanted Characters"
   ]
  }
 ],
 "metadata": {
  "kernelspec": {
   "display_name": "base",
   "language": "python",
   "name": "python3"
  },
  "language_info": {
   "codemirror_mode": {
    "name": "ipython",
    "version": 3
   },
   "file_extension": ".py",
   "mimetype": "text/x-python",
   "name": "python",
   "nbconvert_exporter": "python",
   "pygments_lexer": "ipython3",
   "version": "3.12.7"
  }
 },
 "nbformat": 4,
 "nbformat_minor": 5
}
