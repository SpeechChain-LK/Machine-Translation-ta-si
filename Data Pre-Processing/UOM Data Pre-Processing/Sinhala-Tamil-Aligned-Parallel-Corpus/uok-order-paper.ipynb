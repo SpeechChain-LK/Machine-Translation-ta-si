{
 "cells": [
  {
   "cell_type": "code",
   "execution_count": 1,
   "id": "ebaad508",
   "metadata": {},
   "outputs": [
    {
     "name": "stdout",
     "output_type": "stream",
     "text": [
      "Done! Created TSV file: order_paper_sinhala_tamil_aligned.tsv\n"
     ]
    }
   ],
   "source": [
    "import csv\n",
    "\n",
    "sinhala_file = \"Sinhala.txt\"\n",
    "tamil_file = \"Tamil.txt\"\n",
    "output_file = \"order_paper_sinhala_tamil_aligned.tsv\"\n",
    "\n",
    "# Read sentences from both files\n",
    "with open(sinhala_file, \"r\", encoding=\"utf-8\") as f_si, \\\n",
    "     open(tamil_file, \"r\", encoding=\"utf-8\") as f_ta, \\\n",
    "     open(output_file, \"w\", encoding=\"utf-8\", newline='') as out_f:\n",
    "\n",
    "    sinhala_lines = f_si.readlines()\n",
    "    tamil_lines = f_ta.readlines()\n",
    "\n",
    "    # Make sure both files have the same number of lines\n",
    "    if len(sinhala_lines) != len(tamil_lines):\n",
    "        print(\"Warning: Number of lines in Sinhala and Tamil files do not match!\")\n",
    "        # You can decide to exit or handle differently\n",
    "\n",
    "    tsv_writer = csv.writer(out_f, delimiter='\\t')\n",
    "    # Write header\n",
    "    tsv_writer.writerow([\"source\", \"target\"])\n",
    "\n",
    "    # Write each Tamil-Sinhala pair\n",
    "    for tamil_sentence, sinhala_sentence in zip(tamil_lines, sinhala_lines):\n",
    "        tsv_writer.writerow([tamil_sentence.strip(), sinhala_sentence.strip()])\n",
    "\n",
    "print(f\"Done! Created TSV file: {output_file}\")\n"
   ]
  }
 ],
 "metadata": {
  "kernelspec": {
   "display_name": "base",
   "language": "python",
   "name": "python3"
  },
  "language_info": {
   "codemirror_mode": {
    "name": "ipython",
    "version": 3
   },
   "file_extension": ".py",
   "mimetype": "text/x-python",
   "name": "python",
   "nbconvert_exporter": "python",
   "pygments_lexer": "ipython3",
   "version": "3.12.7"
  }
 },
 "nbformat": 4,
 "nbformat_minor": 5
}
