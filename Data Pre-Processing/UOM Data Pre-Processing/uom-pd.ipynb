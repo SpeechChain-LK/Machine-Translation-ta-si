{
 "cells": [
  {
   "cell_type": "code",
   "execution_count": 1,
   "id": "8ed22253",
   "metadata": {},
   "outputs": [
    {
     "name": "stdout",
     "output_type": "stream",
     "text": [
      "Done! Combined and shuffled file saved as 'combined_shuffled_UOM_Data_sinhala_tamil.tsv'\n"
     ]
    }
   ],
   "source": [
    "import csv\n",
    "import random\n",
    "\n",
    "input_files = [\n",
    "    \"document_alignment_dataset-Sinhala-Tamil-English/combined_shuffled_sinhala_tamil.tsv\",\n",
    "    \"Sinhala-Tamil-Aligned-Parallel-Corpus/order_paper_sinhala_tamil_aligned.tsv\"\n",
    "]\n",
    "\n",
    "output_file = \"combined_shuffled_UOM_Data_sinhala_tamil.tsv\"\n",
    "\n",
    "all_rows = []\n",
    "\n",
    "# Read all input files and collect rows (skip header)\n",
    "for filename in input_files:\n",
    "    with open(filename, \"r\", encoding=\"utf-8\") as f:\n",
    "        reader = csv.reader(f, delimiter='\\t')\n",
    "        next(reader)  # Skip header\n",
    "        for row in reader:\n",
    "            if len(row) >= 2:\n",
    "                all_rows.append(row)\n",
    "\n",
    "# Shuffle all rows randomly\n",
    "random.shuffle(all_rows)\n",
    "\n",
    "# Write combined and shuffled rows to output file with header\n",
    "with open(output_file, \"w\", encoding=\"utf-8\", newline='') as f:\n",
    "    writer = csv.writer(f, delimiter='\\t')\n",
    "    # Write header\n",
    "    writer.writerow([\"source\", \"target\"])\n",
    "    # Write shuffled rows\n",
    "    writer.writerows(all_rows)\n",
    "\n",
    "print(f\"Done! Combined and shuffled file saved as '{output_file}'\")\n"
   ]
  }
 ],
 "metadata": {
  "kernelspec": {
   "display_name": "base",
   "language": "python",
   "name": "python3"
  },
  "language_info": {
   "codemirror_mode": {
    "name": "ipython",
    "version": 3
   },
   "file_extension": ".py",
   "mimetype": "text/x-python",
   "name": "python",
   "nbconvert_exporter": "python",
   "pygments_lexer": "ipython3",
   "version": "3.12.7"
  }
 },
 "nbformat": 4,
 "nbformat_minor": 5
}
