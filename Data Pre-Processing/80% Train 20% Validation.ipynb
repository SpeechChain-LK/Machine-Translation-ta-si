{
 "cells": [
  {
   "cell_type": "code",
   "execution_count": 1,
   "id": "b488631f",
   "metadata": {},
   "outputs": [
    {
     "name": "stdout",
     "output_type": "stream",
     "text": [
      "✅ Done!\n",
      "Training: new data split/train-new.tsv (40526 rows)\n",
      "Validation: new data split/val-new.tsv (10131 rows)\n"
     ]
    }
   ],
   "source": [
    "import csv\n",
    "import random\n",
    "\n",
    "# File paths\n",
    "input_file = \"final_cleaned_data.tsv\"\n",
    "train_file = \"new data split/train-new.tsv\"\n",
    "val_file = \"new data split/val-new.tsv\"\n",
    "\n",
    "# Split ratio\n",
    "val_ratio = 0.2  # 20% validation\n",
    "\n",
    "# Read data\n",
    "with open(input_file, \"r\", encoding=\"utf-8\") as f:\n",
    "    reader = csv.reader(f, delimiter=\"\\t\")\n",
    "    header = next(reader)\n",
    "    data = [row for row in reader if len(row) == 2]\n",
    "\n",
    "# Shuffle to randomize the dataset\n",
    "random.shuffle(data)\n",
    "\n",
    "# Calculate sizes\n",
    "total = len(data)\n",
    "val_size = int(total * val_ratio)\n",
    "train_size = total - val_size\n",
    "\n",
    "# Split the data\n",
    "train_data = data[:train_size]\n",
    "val_data = data[train_size:]\n",
    "\n",
    "# Helper to write data\n",
    "def write_tsv(filename, rows):\n",
    "    with open(filename, \"w\", encoding=\"utf-8\", newline=\"\") as f:\n",
    "        writer = csv.writer(f, delimiter=\"\\t\")\n",
    "        writer.writerow(header)\n",
    "        writer.writerows(rows)\n",
    "\n",
    "# Write files\n",
    "write_tsv(train_file, train_data)\n",
    "write_tsv(val_file, val_data)\n",
    "\n",
    "print(f\"✅ Done!\")\n",
    "print(f\"Training: {train_file} ({len(train_data)} rows)\")\n",
    "print(f\"Validation: {val_file} ({len(val_data)} rows)\")\n"
   ]
  }
 ],
 "metadata": {
  "kernelspec": {
   "display_name": "base",
   "language": "python",
   "name": "python3"
  },
  "language_info": {
   "codemirror_mode": {
    "name": "ipython",
    "version": 3
   },
   "file_extension": ".py",
   "mimetype": "text/x-python",
   "name": "python",
   "nbconvert_exporter": "python",
   "pygments_lexer": "ipython3",
   "version": "3.12.7"
  }
 },
 "nbformat": 4,
 "nbformat_minor": 5
}
