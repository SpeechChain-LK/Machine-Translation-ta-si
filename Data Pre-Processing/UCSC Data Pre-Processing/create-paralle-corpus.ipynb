{
 "cells": [
  {
   "cell_type": "code",
   "execution_count": 2,
   "id": "6d84488e",
   "metadata": {},
   "outputs": [
    {
     "name": "stdout",
     "output_type": "stream",
     "text": [
      "✅ Tab-separated file with header created: full dataset/parallel_corpus.tsv\n"
     ]
    }
   ],
   "source": [
    "# File paths\n",
    "tamil_file = 'full dataset/combined_tamil.txt'\n",
    "sinhala_file = 'full dataset/combined_sinhala.txt'\n",
    "output_file = 'full dataset/parallel_corpus.tsv'\n",
    "\n",
    "# Read lines\n",
    "with open(tamil_file, 'r', encoding='utf-8') as tf, \\\n",
    "     open(sinhala_file, 'r', encoding='utf-8') as sf:\n",
    "\n",
    "    tamil_lines = [line.strip() for line in tf.readlines()]\n",
    "    sinhala_lines = [line.strip() for line in sf.readlines()]\n",
    "\n",
    "# Check line count match\n",
    "if len(tamil_lines) != len(sinhala_lines):\n",
    "    print(f\"⚠️ Line count mismatch: {len(tamil_lines)} Tamil vs {len(sinhala_lines)} Sinhala\")\n",
    "else:\n",
    "    # Write tab-separated output with header\n",
    "    with open(output_file, 'w', encoding='utf-8') as out:\n",
    "        out.write(\"source\\ttarget\\n\")  # Header\n",
    "        for tam, si in zip(tamil_lines, sinhala_lines):\n",
    "            out.write(f\"{tam}\\t{si}\\n\")\n",
    "\n",
    "    print(f\"✅ Tab-separated file with header created: {output_file}\")\n"
   ]
  }
 ],
 "metadata": {
  "kernelspec": {
   "display_name": "base",
   "language": "python",
   "name": "python3"
  },
  "language_info": {
   "codemirror_mode": {
    "name": "ipython",
    "version": 3
   },
   "file_extension": ".py",
   "mimetype": "text/x-python",
   "name": "python",
   "nbconvert_exporter": "python",
   "pygments_lexer": "ipython3",
   "version": "3.12.7"
  }
 },
 "nbformat": 4,
 "nbformat_minor": 5
}
